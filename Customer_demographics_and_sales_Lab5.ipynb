{
 "cells": [
  {
   "cell_type": "markdown",
   "id": "061c31ba",
   "metadata": {},
   "source": [
    "# Customer demographics and sales data analysis\n",
    "#### By Adelami Niyi Victor"
   ]
  },
  {
   "cell_type": "markdown",
   "id": "1533dcf5",
   "metadata": {},
   "source": [
    "This datset contains customer demographics of some stores in __US, Italy, Spain, Australia, Germany, France and Canada__. It has a total of 204 rows and 62 columns"
   ]
  },
  {
   "cell_type": "markdown",
   "id": "f61382b1",
   "metadata": {},
   "source": [
    "## Preliminary Wrangling"
   ]
  },
  {
   "cell_type": "markdown",
   "id": "86e7294f",
   "metadata": {},
   "source": [
    "> importing important libraries "
   ]
  },
  {
   "cell_type": "code",
   "execution_count": 1,
   "id": "47d1f3f0",
   "metadata": {
    "scrolled": false
   },
   "outputs": [],
   "source": [
    "# import all necessary libraries\n",
    "import numpy as np\n",
    "import pandas as pd\n",
    "import seaborn as sns\n",
    "import matplotlib.pyplot as plt\n",
    "%matplotlib inline\n",
    "import datetime\n",
    "import time"
   ]
  },
  {
   "cell_type": "code",
   "execution_count": 2,
   "id": "19ad54bb",
   "metadata": {},
   "outputs": [
    {
     "data": {
      "text/html": [
       "<div>\n",
       "<style scoped>\n",
       "    .dataframe tbody tr th:only-of-type {\n",
       "        vertical-align: middle;\n",
       "    }\n",
       "\n",
       "    .dataframe tbody tr th {\n",
       "        vertical-align: top;\n",
       "    }\n",
       "\n",
       "    .dataframe thead th {\n",
       "        text-align: right;\n",
       "    }\n",
       "</style>\n",
       "<table border=\"1\" class=\"dataframe\">\n",
       "  <thead>\n",
       "    <tr style=\"text-align: right;\">\n",
       "      <th></th>\n",
       "      <th>CUST_NAME</th>\n",
       "      <th>Gender_Code</th>\n",
       "      <th>ADDRESS1</th>\n",
       "      <th>CITY</th>\n",
       "      <th>STATE</th>\n",
       "      <th>COUNTRY_CODE</th>\n",
       "      <th>POSTAL_CODE</th>\n",
       "      <th>POSTAL_CODE_PLUS4</th>\n",
       "      <th>ADDRESS2</th>\n",
       "      <th>EMAIL_ADDRESS</th>\n",
       "      <th>...</th>\n",
       "      <th>Cleaning Products</th>\n",
       "      <th>Condiments</th>\n",
       "      <th>Frozen Foods</th>\n",
       "      <th>Kitchen Items</th>\n",
       "      <th>Meat</th>\n",
       "      <th>Office Supplies</th>\n",
       "      <th>Personal Care</th>\n",
       "      <th>Pet Supplies</th>\n",
       "      <th>Sea Food</th>\n",
       "      <th>Spices</th>\n",
       "    </tr>\n",
       "  </thead>\n",
       "  <tbody>\n",
       "    <tr>\n",
       "      <th>0</th>\n",
       "      <td>Allen Perl</td>\n",
       "      <td>Mr.</td>\n",
       "      <td>4707    Hillcrest Lane</td>\n",
       "      <td>Abeto</td>\n",
       "      <td>PG</td>\n",
       "      <td>IT</td>\n",
       "      <td>6040</td>\n",
       "      <td>0.0</td>\n",
       "      <td>NaN</td>\n",
       "      <td>Allen.M.Perl@spambob.com</td>\n",
       "      <td>...</td>\n",
       "      <td>0.0</td>\n",
       "      <td>1.0</td>\n",
       "      <td>0.0</td>\n",
       "      <td>0.0</td>\n",
       "      <td>0.0</td>\n",
       "      <td>0.0</td>\n",
       "      <td>0.0</td>\n",
       "      <td>0.0</td>\n",
       "      <td>0.0</td>\n",
       "      <td>0.0</td>\n",
       "    </tr>\n",
       "    <tr>\n",
       "      <th>1</th>\n",
       "      <td>Allen Perl</td>\n",
       "      <td>Mr.</td>\n",
       "      <td>4707    Hillcrest Lane</td>\n",
       "      <td>Abeto</td>\n",
       "      <td>PG</td>\n",
       "      <td>IT</td>\n",
       "      <td>6040</td>\n",
       "      <td>0.0</td>\n",
       "      <td>NaN</td>\n",
       "      <td>Allen.M.Perl@spambob.com</td>\n",
       "      <td>...</td>\n",
       "      <td>1.0</td>\n",
       "      <td>0.0</td>\n",
       "      <td>0.0</td>\n",
       "      <td>0.0</td>\n",
       "      <td>0.0</td>\n",
       "      <td>0.0</td>\n",
       "      <td>0.0</td>\n",
       "      <td>0.0</td>\n",
       "      <td>0.0</td>\n",
       "      <td>0.0</td>\n",
       "    </tr>\n",
       "    <tr>\n",
       "      <th>2</th>\n",
       "      <td>Allen Perl</td>\n",
       "      <td>Mr.</td>\n",
       "      <td>4707    Hillcrest Lane</td>\n",
       "      <td>Abeto</td>\n",
       "      <td>PG</td>\n",
       "      <td>IT</td>\n",
       "      <td>6040</td>\n",
       "      <td>0.0</td>\n",
       "      <td>NaN</td>\n",
       "      <td>Allen.M.Perl@spambob.com</td>\n",
       "      <td>...</td>\n",
       "      <td>0.0</td>\n",
       "      <td>0.0</td>\n",
       "      <td>0.0</td>\n",
       "      <td>0.0</td>\n",
       "      <td>0.0</td>\n",
       "      <td>0.0</td>\n",
       "      <td>0.0</td>\n",
       "      <td>0.0</td>\n",
       "      <td>0.0</td>\n",
       "      <td>0.0</td>\n",
       "    </tr>\n",
       "    <tr>\n",
       "      <th>3</th>\n",
       "      <td>Allen Perl</td>\n",
       "      <td>Mr.</td>\n",
       "      <td>4707    Hillcrest Lane</td>\n",
       "      <td>Abeto</td>\n",
       "      <td>PG</td>\n",
       "      <td>IT</td>\n",
       "      <td>6040</td>\n",
       "      <td>0.0</td>\n",
       "      <td>NaN</td>\n",
       "      <td>Allen.M.Perl@spambob.com</td>\n",
       "      <td>...</td>\n",
       "      <td>0.0</td>\n",
       "      <td>0.0</td>\n",
       "      <td>0.0</td>\n",
       "      <td>0.0</td>\n",
       "      <td>0.0</td>\n",
       "      <td>0.0</td>\n",
       "      <td>0.0</td>\n",
       "      <td>0.0</td>\n",
       "      <td>0.0</td>\n",
       "      <td>0.0</td>\n",
       "    </tr>\n",
       "    <tr>\n",
       "      <th>4</th>\n",
       "      <td>Allen Perl</td>\n",
       "      <td>Mr.</td>\n",
       "      <td>4707    Hillcrest Lane</td>\n",
       "      <td>Abeto</td>\n",
       "      <td>PG</td>\n",
       "      <td>IT</td>\n",
       "      <td>6040</td>\n",
       "      <td>0.0</td>\n",
       "      <td>NaN</td>\n",
       "      <td>Allen.M.Perl@spambob.com</td>\n",
       "      <td>...</td>\n",
       "      <td>0.0</td>\n",
       "      <td>0.0</td>\n",
       "      <td>0.0</td>\n",
       "      <td>0.0</td>\n",
       "      <td>0.0</td>\n",
       "      <td>0.0</td>\n",
       "      <td>0.0</td>\n",
       "      <td>0.0</td>\n",
       "      <td>0.0</td>\n",
       "      <td>0.0</td>\n",
       "    </tr>\n",
       "  </tbody>\n",
       "</table>\n",
       "<p>5 rows × 62 columns</p>\n",
       "</div>"
      ],
      "text/plain": [
       "              CUST_NAME Gender_Code                ADDRESS1   CITY STATE  \\\n",
       "0  Allen Perl                   Mr.  4707    Hillcrest Lane  Abeto    PG   \n",
       "1  Allen Perl                   Mr.  4707    Hillcrest Lane  Abeto    PG   \n",
       "2  Allen Perl                   Mr.  4707    Hillcrest Lane  Abeto    PG   \n",
       "3  Allen Perl                   Mr.  4707    Hillcrest Lane  Abeto    PG   \n",
       "4  Allen Perl                   Mr.  4707    Hillcrest Lane  Abeto    PG   \n",
       "\n",
       "  COUNTRY_CODE POSTAL_CODE  POSTAL_CODE_PLUS4  ADDRESS2  \\\n",
       "0           IT        6040                0.0       NaN   \n",
       "1           IT        6040                0.0       NaN   \n",
       "2           IT        6040                0.0       NaN   \n",
       "3           IT        6040                0.0       NaN   \n",
       "4           IT        6040                0.0       NaN   \n",
       "\n",
       "              EMAIL_ADDRESS  ... Cleaning Products Condiments  Frozen Foods  \\\n",
       "0  Allen.M.Perl@spambob.com  ...               0.0        1.0           0.0   \n",
       "1  Allen.M.Perl@spambob.com  ...               1.0        0.0           0.0   \n",
       "2  Allen.M.Perl@spambob.com  ...               0.0        0.0           0.0   \n",
       "3  Allen.M.Perl@spambob.com  ...               0.0        0.0           0.0   \n",
       "4  Allen.M.Perl@spambob.com  ...               0.0        0.0           0.0   \n",
       "\n",
       "  Kitchen Items Meat Office Supplies  Personal Care  Pet Supplies  Sea Food  \\\n",
       "0           0.0  0.0             0.0            0.0           0.0       0.0   \n",
       "1           0.0  0.0             0.0            0.0           0.0       0.0   \n",
       "2           0.0  0.0             0.0            0.0           0.0       0.0   \n",
       "3           0.0  0.0             0.0            0.0           0.0       0.0   \n",
       "4           0.0  0.0             0.0            0.0           0.0       0.0   \n",
       "\n",
       "   Spices  \n",
       "0     0.0  \n",
       "1     0.0  \n",
       "2     0.0  \n",
       "3     0.0  \n",
       "4     0.0  \n",
       "\n",
       "[5 rows x 62 columns]"
      ]
     },
     "execution_count": 2,
     "metadata": {},
     "output_type": "execute_result"
    }
   ],
   "source": [
    "#inspecting the data\n",
    "df = pd.read_excel('./Data/Customer_demographics_and_sales_Lab5.xlsx')\n",
    "df.head()"
   ]
  },
  {
   "cell_type": "code",
   "execution_count": 3,
   "id": "9a6491db",
   "metadata": {},
   "outputs": [
    {
     "name": "stdout",
     "output_type": "stream",
     "text": [
      "<class 'pandas.core.frame.DataFrame'>\n",
      "RangeIndex: 204 entries, 0 to 203\n",
      "Data columns (total 62 columns):\n",
      " #   Column               Non-Null Count  Dtype         \n",
      "---  ------               --------------  -----         \n",
      " 0   CUST_NAME            199 non-null    object        \n",
      " 1   Gender_Code          199 non-null    object        \n",
      " 2   ADDRESS1             199 non-null    object        \n",
      " 3   CITY                 199 non-null    object        \n",
      " 4   STATE                163 non-null    object        \n",
      " 5   COUNTRY_CODE         199 non-null    object        \n",
      " 6   POSTAL_CODE          199 non-null    object        \n",
      " 7   POSTAL_CODE_PLUS4    199 non-null    float64       \n",
      " 8   ADDRESS2             0 non-null      float64       \n",
      " 9   EMAIL_ADDRESS        199 non-null    object        \n",
      " 10  PHONE_NUMBER         199 non-null    object        \n",
      " 11  CREDITCARD_TYPE      199 non-null    object        \n",
      " 12  LOCALITY             0 non-null      float64       \n",
      " 13  SALESMAN_ID          199 non-null    object        \n",
      " 14  NATIONALITY          199 non-null    object        \n",
      " 15  NATIONAL_ID          199 non-null    object        \n",
      " 16  CREDITCARD_NUMBER    199 non-null    float64       \n",
      " 17  DRIVER_LICENSE       0 non-null      float64       \n",
      " 18  CUST_ID              199 non-null    float64       \n",
      " 19  ORDER_ID             199 non-null    float64       \n",
      " 20  ORDER_DATE           199 non-null    object        \n",
      " 21  ORDER_TIME           199 non-null    object        \n",
      " 22  FREIGHT_CHARGES      199 non-null    float64       \n",
      " 23  ORDER_SALESMAN       199 non-null    object        \n",
      " 24  ORDER_POSTED_DATE    199 non-null    object        \n",
      " 25  ORDER_SHIP_DATE      199 non-null    datetime64[ns]\n",
      " 26  AGE                  175 non-null    object        \n",
      " 27  ORDER_VALUE          199 non-null    float64       \n",
      " 28  T_TYPE               199 non-null    object        \n",
      " 29  PURCHASE_TOUCHPOINT  199 non-null    object        \n",
      " 30  PURCHASE_STATUS      199 non-null    object        \n",
      " 31  ORDER_TYPE           199 non-null    object        \n",
      " 32  GENERATION           199 non-null    object        \n",
      " 33  Baby Food            199 non-null    float64       \n",
      " 34  Diapers              199 non-null    float64       \n",
      " 35  Formula              199 non-null    float64       \n",
      " 36  Lotion               199 non-null    float64       \n",
      " 37  Baby wash            199 non-null    float64       \n",
      " 38  Wipes                199 non-null    float64       \n",
      " 39  Fresh Fruits         199 non-null    float64       \n",
      " 40  Fresh Vegetables     199 non-null    float64       \n",
      " 41  Beer                 199 non-null    float64       \n",
      " 42  Wine                 199 non-null    float64       \n",
      " 43  Club Soda            199 non-null    float64       \n",
      " 44  Sports Drink         199 non-null    float64       \n",
      " 45  Chips                199 non-null    float64       \n",
      " 46  Popcorn              199 non-null    float64       \n",
      " 47  Oatmeal              199 non-null    float64       \n",
      " 48  Medicines            199 non-null    float64       \n",
      " 49  Canned Foods         199 non-null    float64       \n",
      " 50  Cigarettes           199 non-null    float64       \n",
      " 51  Cheese               199 non-null    float64       \n",
      " 52  Cleaning Products    199 non-null    float64       \n",
      " 53  Condiments           199 non-null    float64       \n",
      " 54  Frozen Foods         199 non-null    float64       \n",
      " 55  Kitchen Items        199 non-null    float64       \n",
      " 56  Meat                 199 non-null    float64       \n",
      " 57  Office Supplies      199 non-null    float64       \n",
      " 58  Personal Care        199 non-null    float64       \n",
      " 59  Pet Supplies         199 non-null    float64       \n",
      " 60  Sea Food             199 non-null    float64       \n",
      " 61  Spices               199 non-null    float64       \n",
      "dtypes: datetime64[ns](1), float64(38), object(23)\n",
      "memory usage: 98.9+ KB\n"
     ]
    }
   ],
   "source": [
    "#checking general informaion of the dataframe\n",
    "df.info()"
   ]
  },
  {
   "cell_type": "markdown",
   "id": "d9c4240c",
   "metadata": {},
   "source": [
    "* The address, locality and drivers licence are empty\n",
    "* There are rows with all missing values \n",
    "* Age should be numerical data type\n",
    "* The dataframe contains 204 rows and 64 columns"
   ]
  },
  {
   "cell_type": "code",
   "execution_count": 4,
   "id": "80348ba0",
   "metadata": {
    "scrolled": true
   },
   "outputs": [
    {
     "data": {
      "text/html": [
       "<div>\n",
       "<style scoped>\n",
       "    .dataframe tbody tr th:only-of-type {\n",
       "        vertical-align: middle;\n",
       "    }\n",
       "\n",
       "    .dataframe tbody tr th {\n",
       "        vertical-align: top;\n",
       "    }\n",
       "\n",
       "    .dataframe thead th {\n",
       "        text-align: right;\n",
       "    }\n",
       "</style>\n",
       "<table border=\"1\" class=\"dataframe\">\n",
       "  <thead>\n",
       "    <tr style=\"text-align: right;\">\n",
       "      <th></th>\n",
       "      <th>ORDER_VALUE</th>\n",
       "      <th>FREIGHT_CHARGES</th>\n",
       "    </tr>\n",
       "  </thead>\n",
       "  <tbody>\n",
       "    <tr>\n",
       "      <th>count</th>\n",
       "      <td>199.000000</td>\n",
       "      <td>199.000000</td>\n",
       "    </tr>\n",
       "    <tr>\n",
       "      <th>mean</th>\n",
       "      <td>101.523116</td>\n",
       "      <td>16.853015</td>\n",
       "    </tr>\n",
       "    <tr>\n",
       "      <th>std</th>\n",
       "      <td>114.116234</td>\n",
       "      <td>10.637495</td>\n",
       "    </tr>\n",
       "    <tr>\n",
       "      <th>min</th>\n",
       "      <td>5.100000</td>\n",
       "      <td>1.490000</td>\n",
       "    </tr>\n",
       "    <tr>\n",
       "      <th>25%</th>\n",
       "      <td>27.340000</td>\n",
       "      <td>8.995000</td>\n",
       "    </tr>\n",
       "    <tr>\n",
       "      <th>50%</th>\n",
       "      <td>44.290000</td>\n",
       "      <td>13.880000</td>\n",
       "    </tr>\n",
       "    <tr>\n",
       "      <th>75%</th>\n",
       "      <td>180.205000</td>\n",
       "      <td>21.970000</td>\n",
       "    </tr>\n",
       "    <tr>\n",
       "      <th>max</th>\n",
       "      <td>800.900000</td>\n",
       "      <td>68.570000</td>\n",
       "    </tr>\n",
       "  </tbody>\n",
       "</table>\n",
       "</div>"
      ],
      "text/plain": [
       "       ORDER_VALUE  FREIGHT_CHARGES\n",
       "count   199.000000       199.000000\n",
       "mean    101.523116        16.853015\n",
       "std     114.116234        10.637495\n",
       "min       5.100000         1.490000\n",
       "25%      27.340000         8.995000\n",
       "50%      44.290000        13.880000\n",
       "75%     180.205000        21.970000\n",
       "max     800.900000        68.570000"
      ]
     },
     "execution_count": 4,
     "metadata": {},
     "output_type": "execute_result"
    }
   ],
   "source": [
    "#checking the summary statistics of ORDER_VALUE and FREIGHT_CHARGES columns\n",
    "df.describe()[['ORDER_VALUE','FREIGHT_CHARGES']]"
   ]
  },
  {
   "cell_type": "markdown",
   "id": "a4febe92",
   "metadata": {},
   "source": [
    "* The average order valus is 101 while 50 percentile of orders are around 44\n",
    "* The freight charges has an average value of 16, while 50 percentile of the value is 13"
   ]
  },
  {
   "cell_type": "code",
   "execution_count": 5,
   "id": "fbeaee43",
   "metadata": {
    "scrolled": false
   },
   "outputs": [
    {
     "data": {
      "text/html": [
       "<div>\n",
       "<style scoped>\n",
       "    .dataframe tbody tr th:only-of-type {\n",
       "        vertical-align: middle;\n",
       "    }\n",
       "\n",
       "    .dataframe tbody tr th {\n",
       "        vertical-align: top;\n",
       "    }\n",
       "\n",
       "    .dataframe thead th {\n",
       "        text-align: right;\n",
       "    }\n",
       "</style>\n",
       "<table border=\"1\" class=\"dataframe\">\n",
       "  <thead>\n",
       "    <tr style=\"text-align: right;\">\n",
       "      <th></th>\n",
       "      <th>CUST_NAME</th>\n",
       "      <th>Gender_Code</th>\n",
       "      <th>ADDRESS1</th>\n",
       "      <th>CITY</th>\n",
       "      <th>STATE</th>\n",
       "      <th>COUNTRY_CODE</th>\n",
       "      <th>POSTAL_CODE</th>\n",
       "      <th>POSTAL_CODE_PLUS4</th>\n",
       "      <th>ADDRESS2</th>\n",
       "      <th>EMAIL_ADDRESS</th>\n",
       "      <th>...</th>\n",
       "      <th>Cleaning Products</th>\n",
       "      <th>Condiments</th>\n",
       "      <th>Frozen Foods</th>\n",
       "      <th>Kitchen Items</th>\n",
       "      <th>Meat</th>\n",
       "      <th>Office Supplies</th>\n",
       "      <th>Personal Care</th>\n",
       "      <th>Pet Supplies</th>\n",
       "      <th>Sea Food</th>\n",
       "      <th>Spices</th>\n",
       "    </tr>\n",
       "  </thead>\n",
       "  <tbody>\n",
       "    <tr>\n",
       "      <th>70</th>\n",
       "      <td>NaN</td>\n",
       "      <td>NaN</td>\n",
       "      <td>NaN</td>\n",
       "      <td>NaN</td>\n",
       "      <td>NaN</td>\n",
       "      <td>NaN</td>\n",
       "      <td>NaN</td>\n",
       "      <td>NaN</td>\n",
       "      <td>NaN</td>\n",
       "      <td>NaN</td>\n",
       "      <td>...</td>\n",
       "      <td>NaN</td>\n",
       "      <td>NaN</td>\n",
       "      <td>NaN</td>\n",
       "      <td>NaN</td>\n",
       "      <td>NaN</td>\n",
       "      <td>NaN</td>\n",
       "      <td>NaN</td>\n",
       "      <td>NaN</td>\n",
       "      <td>NaN</td>\n",
       "      <td>NaN</td>\n",
       "    </tr>\n",
       "    <tr>\n",
       "      <th>71</th>\n",
       "      <td>NaN</td>\n",
       "      <td>NaN</td>\n",
       "      <td>NaN</td>\n",
       "      <td>NaN</td>\n",
       "      <td>NaN</td>\n",
       "      <td>NaN</td>\n",
       "      <td>NaN</td>\n",
       "      <td>NaN</td>\n",
       "      <td>NaN</td>\n",
       "      <td>NaN</td>\n",
       "      <td>...</td>\n",
       "      <td>NaN</td>\n",
       "      <td>NaN</td>\n",
       "      <td>NaN</td>\n",
       "      <td>NaN</td>\n",
       "      <td>NaN</td>\n",
       "      <td>NaN</td>\n",
       "      <td>NaN</td>\n",
       "      <td>NaN</td>\n",
       "      <td>NaN</td>\n",
       "      <td>NaN</td>\n",
       "    </tr>\n",
       "    <tr>\n",
       "      <th>72</th>\n",
       "      <td>NaN</td>\n",
       "      <td>NaN</td>\n",
       "      <td>NaN</td>\n",
       "      <td>NaN</td>\n",
       "      <td>NaN</td>\n",
       "      <td>NaN</td>\n",
       "      <td>NaN</td>\n",
       "      <td>NaN</td>\n",
       "      <td>NaN</td>\n",
       "      <td>NaN</td>\n",
       "      <td>...</td>\n",
       "      <td>NaN</td>\n",
       "      <td>NaN</td>\n",
       "      <td>NaN</td>\n",
       "      <td>NaN</td>\n",
       "      <td>NaN</td>\n",
       "      <td>NaN</td>\n",
       "      <td>NaN</td>\n",
       "      <td>NaN</td>\n",
       "      <td>NaN</td>\n",
       "      <td>NaN</td>\n",
       "    </tr>\n",
       "    <tr>\n",
       "      <th>73</th>\n",
       "      <td>NaN</td>\n",
       "      <td>NaN</td>\n",
       "      <td>NaN</td>\n",
       "      <td>NaN</td>\n",
       "      <td>NaN</td>\n",
       "      <td>NaN</td>\n",
       "      <td>NaN</td>\n",
       "      <td>NaN</td>\n",
       "      <td>NaN</td>\n",
       "      <td>NaN</td>\n",
       "      <td>...</td>\n",
       "      <td>NaN</td>\n",
       "      <td>NaN</td>\n",
       "      <td>NaN</td>\n",
       "      <td>NaN</td>\n",
       "      <td>NaN</td>\n",
       "      <td>NaN</td>\n",
       "      <td>NaN</td>\n",
       "      <td>NaN</td>\n",
       "      <td>NaN</td>\n",
       "      <td>NaN</td>\n",
       "    </tr>\n",
       "    <tr>\n",
       "      <th>99</th>\n",
       "      <td>Quinn Perry</td>\n",
       "      <td>Master.</td>\n",
       "      <td>749 C Street</td>\n",
       "      <td>Amarillo</td>\n",
       "      <td>TX</td>\n",
       "      <td>US</td>\n",
       "      <td>79109</td>\n",
       "      <td>0.0</td>\n",
       "      <td>NaN</td>\n",
       "      <td>Quinn.S.Perry@spambob.com</td>\n",
       "      <td>...</td>\n",
       "      <td>1.0</td>\n",
       "      <td>0.0</td>\n",
       "      <td>0.0</td>\n",
       "      <td>0.0</td>\n",
       "      <td>0.0</td>\n",
       "      <td>0.0</td>\n",
       "      <td>0.0</td>\n",
       "      <td>1.0</td>\n",
       "      <td>0.0</td>\n",
       "      <td>0.0</td>\n",
       "    </tr>\n",
       "    <tr>\n",
       "      <th>100</th>\n",
       "      <td>Quinn Perry</td>\n",
       "      <td>Master.</td>\n",
       "      <td>749 C Street</td>\n",
       "      <td>Amarillo</td>\n",
       "      <td>TX</td>\n",
       "      <td>US</td>\n",
       "      <td>79109</td>\n",
       "      <td>0.0</td>\n",
       "      <td>NaN</td>\n",
       "      <td>Quinn.S.Perry@spambob.com</td>\n",
       "      <td>...</td>\n",
       "      <td>0.0</td>\n",
       "      <td>0.0</td>\n",
       "      <td>0.0</td>\n",
       "      <td>0.0</td>\n",
       "      <td>0.0</td>\n",
       "      <td>0.0</td>\n",
       "      <td>0.0</td>\n",
       "      <td>0.0</td>\n",
       "      <td>0.0</td>\n",
       "      <td>0.0</td>\n",
       "    </tr>\n",
       "    <tr>\n",
       "      <th>101</th>\n",
       "      <td>Kristin Mendoza</td>\n",
       "      <td>Mrs.</td>\n",
       "      <td>2909 Frank Avenue</td>\n",
       "      <td>Anaheim</td>\n",
       "      <td>CA</td>\n",
       "      <td>US</td>\n",
       "      <td>92805</td>\n",
       "      <td>0.0</td>\n",
       "      <td>NaN</td>\n",
       "      <td>Kristin.T.Mendoza@spambob.com</td>\n",
       "      <td>...</td>\n",
       "      <td>0.0</td>\n",
       "      <td>1.0</td>\n",
       "      <td>0.0</td>\n",
       "      <td>0.0</td>\n",
       "      <td>0.0</td>\n",
       "      <td>0.0</td>\n",
       "      <td>0.0</td>\n",
       "      <td>0.0</td>\n",
       "      <td>0.0</td>\n",
       "      <td>0.0</td>\n",
       "    </tr>\n",
       "    <tr>\n",
       "      <th>102</th>\n",
       "      <td>Kristin Mendoza</td>\n",
       "      <td>Mrs.</td>\n",
       "      <td>2909 Frank Avenue</td>\n",
       "      <td>Anaheim</td>\n",
       "      <td>CA</td>\n",
       "      <td>US</td>\n",
       "      <td>92805</td>\n",
       "      <td>0.0</td>\n",
       "      <td>NaN</td>\n",
       "      <td>Kristin.T.Mendoza@spambob.com</td>\n",
       "      <td>...</td>\n",
       "      <td>0.0</td>\n",
       "      <td>0.0</td>\n",
       "      <td>0.0</td>\n",
       "      <td>0.0</td>\n",
       "      <td>0.0</td>\n",
       "      <td>0.0</td>\n",
       "      <td>0.0</td>\n",
       "      <td>0.0</td>\n",
       "      <td>0.0</td>\n",
       "      <td>0.0</td>\n",
       "    </tr>\n",
       "    <tr>\n",
       "      <th>103</th>\n",
       "      <td>Kristin Mendoza</td>\n",
       "      <td>Mrs.</td>\n",
       "      <td>2909 Frank Avenue</td>\n",
       "      <td>Anaheim</td>\n",
       "      <td>CA</td>\n",
       "      <td>US</td>\n",
       "      <td>92805</td>\n",
       "      <td>0.0</td>\n",
       "      <td>NaN</td>\n",
       "      <td>Kristin.T.Mendoza@spambob.com</td>\n",
       "      <td>...</td>\n",
       "      <td>0.0</td>\n",
       "      <td>0.0</td>\n",
       "      <td>1.0</td>\n",
       "      <td>0.0</td>\n",
       "      <td>0.0</td>\n",
       "      <td>0.0</td>\n",
       "      <td>0.0</td>\n",
       "      <td>0.0</td>\n",
       "      <td>1.0</td>\n",
       "      <td>0.0</td>\n",
       "    </tr>\n",
       "  </tbody>\n",
       "</table>\n",
       "<p>9 rows × 62 columns</p>\n",
       "</div>"
      ],
      "text/plain": [
       "                CUST_NAME Gender_Code           ADDRESS1      CITY STATE  \\\n",
       "70                    NaN         NaN                NaN       NaN   NaN   \n",
       "71                    NaN         NaN                NaN       NaN   NaN   \n",
       "72                    NaN         NaN                NaN       NaN   NaN   \n",
       "73                    NaN         NaN                NaN       NaN   NaN   \n",
       "99   Quinn Perry              Master.       749 C Street  Amarillo    TX   \n",
       "100  Quinn Perry              Master.       749 C Street  Amarillo    TX   \n",
       "101  Kristin Mendoza             Mrs.  2909 Frank Avenue   Anaheim    CA   \n",
       "102  Kristin Mendoza             Mrs.  2909 Frank Avenue   Anaheim    CA   \n",
       "103  Kristin Mendoza             Mrs.  2909 Frank Avenue   Anaheim    CA   \n",
       "\n",
       "    COUNTRY_CODE POSTAL_CODE  POSTAL_CODE_PLUS4  ADDRESS2  \\\n",
       "70           NaN         NaN                NaN       NaN   \n",
       "71           NaN         NaN                NaN       NaN   \n",
       "72           NaN         NaN                NaN       NaN   \n",
       "73           NaN         NaN                NaN       NaN   \n",
       "99            US       79109                0.0       NaN   \n",
       "100           US       79109                0.0       NaN   \n",
       "101           US       92805                0.0       NaN   \n",
       "102           US       92805                0.0       NaN   \n",
       "103           US       92805                0.0       NaN   \n",
       "\n",
       "                     EMAIL_ADDRESS  ... Cleaning Products Condiments  \\\n",
       "70                             NaN  ...               NaN        NaN   \n",
       "71                             NaN  ...               NaN        NaN   \n",
       "72                             NaN  ...               NaN        NaN   \n",
       "73                             NaN  ...               NaN        NaN   \n",
       "99       Quinn.S.Perry@spambob.com  ...               1.0        0.0   \n",
       "100      Quinn.S.Perry@spambob.com  ...               0.0        0.0   \n",
       "101  Kristin.T.Mendoza@spambob.com  ...               0.0        1.0   \n",
       "102  Kristin.T.Mendoza@spambob.com  ...               0.0        0.0   \n",
       "103  Kristin.T.Mendoza@spambob.com  ...               0.0        0.0   \n",
       "\n",
       "     Frozen Foods Kitchen Items Meat Office Supplies  Personal Care  \\\n",
       "70            NaN           NaN  NaN             NaN            NaN   \n",
       "71            NaN           NaN  NaN             NaN            NaN   \n",
       "72            NaN           NaN  NaN             NaN            NaN   \n",
       "73            NaN           NaN  NaN             NaN            NaN   \n",
       "99            0.0           0.0  0.0             0.0            0.0   \n",
       "100           0.0           0.0  0.0             0.0            0.0   \n",
       "101           0.0           0.0  0.0             0.0            0.0   \n",
       "102           0.0           0.0  0.0             0.0            0.0   \n",
       "103           1.0           0.0  0.0             0.0            0.0   \n",
       "\n",
       "     Pet Supplies  Sea Food  Spices  \n",
       "70            NaN       NaN     NaN  \n",
       "71            NaN       NaN     NaN  \n",
       "72            NaN       NaN     NaN  \n",
       "73            NaN       NaN     NaN  \n",
       "99            1.0       0.0     0.0  \n",
       "100           0.0       0.0     0.0  \n",
       "101           0.0       0.0     0.0  \n",
       "102           0.0       0.0     0.0  \n",
       "103           0.0       1.0     0.0  \n",
       "\n",
       "[9 rows x 62 columns]"
      ]
     },
     "execution_count": 5,
     "metadata": {},
     "output_type": "execute_result"
    }
   ],
   "source": [
    "#checking duplicated entries\n",
    "df[df.duplicated() == True]"
   ]
  },
  {
   "cell_type": "markdown",
   "id": "fd7a4ef0",
   "metadata": {},
   "source": [
    "> There are nine entries that are duplicates"
   ]
  },
  {
   "cell_type": "code",
   "execution_count": 6,
   "id": "ded82ea4",
   "metadata": {},
   "outputs": [
    {
     "data": {
      "text/plain": [
       "Mr.        103\n",
       "Mrs.        83\n",
       "Miss.        8\n",
       "Master.      5\n",
       "Name: Gender_Code, dtype: int64"
      ]
     },
     "execution_count": 6,
     "metadata": {},
     "output_type": "execute_result"
    }
   ],
   "source": [
    "#Checking the different types of genders represented in the dataframe\n",
    "df.Gender_Code.value_counts()"
   ]
  },
  {
   "cell_type": "code",
   "execution_count": 7,
   "id": "e6597838",
   "metadata": {},
   "outputs": [
    {
     "data": {
      "text/plain": [
       "US    106\n",
       "IT     38\n",
       "ES     18\n",
       "AU     18\n",
       "DE     10\n",
       "FR      8\n",
       "CA      1\n",
       "Name: COUNTRY_CODE, dtype: int64"
      ]
     },
     "execution_count": 7,
     "metadata": {},
     "output_type": "execute_result"
    }
   ],
   "source": [
    "# Checking the countries in the dataframe\n",
    "df.COUNTRY_CODE.value_counts()"
   ]
  },
  {
   "cell_type": "code",
   "execution_count": 8,
   "id": "0185fdff",
   "metadata": {},
   "outputs": [
    {
     "name": "stdout",
     "output_type": "stream",
     "text": [
      "There are 7 countries, 73 cities and 41 states in the dataframe\n"
     ]
    }
   ],
   "source": [
    "#checking the number of countries, cities and states represented in the dataframe\n",
    "print(\"There are {} countries, {} cities and {} states in the dataframe\".format(df.COUNTRY_CODE.nunique(), \n",
    "                                                                  df.CITY.nunique(), df.STATE.nunique()))"
   ]
  },
  {
   "cell_type": "markdown",
   "id": "8d4b7754",
   "metadata": {},
   "source": [
    "# Data Cleaning"
   ]
  },
  {
   "cell_type": "markdown",
   "id": "bd936f11",
   "metadata": {},
   "source": [
    "### Cleaniness issues\n",
    "* The __`AGE, CUST_ID and ORDER_ID`__ variable should be in integer type\n",
    "* The __`order_time`__ is not properly formatted \n",
    "* There are some duplicated rows in the dataset\n",
    "* The number of Miss. and Master in the gender code variable is very low\n",
    "* Some __`Age`__ are missing\n",
    "* The columns are not properly named\n",
    "* __`American Express`__ is spelt wrongly in __creditcard type__ column\n",
    "\n",
    "\n",
    "### Tidieness issues\n",
    "* Columns __`ADDRESS2, LOCALITY and DRIVER_LICENSE`__ does not have any value. \n",
    "* The following have to be removed and renamed as products:\n",
    "                                            `'Beer','Wine','Club Soda','Sports Drink','Chips','Popcorn',\n",
    "                                            'Oatmeal','Medicines','Canned Foods','Cigarettes','Cheese',\n",
    "                                            'Cleaning Products','Condiments','Frozen Foods','Kitchen Items',\n",
    "                                            'Meat','Office Supplies','Personal Care','Pet Supplies',\n",
    "                                            'Sea Food','Spices'`\n",
    "                                            \n",
    "* There are some empty rows in the dataset\n",
    "* The folowing variables should be in categorical type:\n",
    "    - `Gender_code`\n",
    "    - `Counrty_code`\n",
    "    - `CREDITCARD_TYPE`\n",
    "    - `NATIONALITY`\n",
    "    - `T_TYPE`\n",
    "    - `PURCHASE_TOUCHPOINT`\n",
    "    - `PURCHASE_STATUS`\n",
    "    - `ORDER_TYPE`\n",
    "    - `GENERATION`\n",
    "* The __`POSTAL_CODE_PLUS4, ORDER_POSTED_DATE and ORDER_DATE`__ has too many incomplete data\n",
    "* __`NATIONAL_ID and CREDITCARD_NUMBER`__ has too much unusable entries \n",
    "\n"
   ]
  },
  {
   "cell_type": "markdown",
   "id": "b67bda69",
   "metadata": {},
   "source": [
    "#### Define\n",
    "Convert the following columns to a a sinngle column and rename it as Product \n",
    "> `'Beer','Wine','Club Soda','Sports   Drink','Chips','Popcorn',\n",
    "   'Oatmeal','Medicines','Canned Foods','Cigarettes','Cheese',\n",
    "   'Cleaning Products','Condiments','Frozen Foods','Kitchen Items',\n",
    "   'Meat','Office Supplies','Personal Care','Pet Supplies',\n",
    "   'Sea Food','Spices'`"
   ]
  },
  {
   "cell_type": "markdown",
   "id": "ed590bc6",
   "metadata": {},
   "source": [
    "#### Code"
   ]
  },
  {
   "cell_type": "code",
   "execution_count": 9,
   "id": "36b17852",
   "metadata": {},
   "outputs": [],
   "source": [
    "# Use melt method to turn some columns to a single colum and rename it as product\n",
    "df_clean = pd.melt(df, id_vars=['CUST_NAME','Gender_Code','ADDRESS1','CITY','STATE',\n",
    "                           'COUNTRY_CODE','POSTAL_CODE','POSTAL_CODE_PLUS4', 'ADDRESS2',\n",
    "                           'EMAIL_ADDRESS','PHONE_NUMBER','CREDITCARD_TYPE', 'LOCALITY',\n",
    "                           'SALESMAN_ID','NATIONALITY','NATIONAL_ID',\n",
    "                           'CREDITCARD_NUMBER','DRIVER_LICENSE','CUST_ID','ORDER_ID',\n",
    "                           'ORDER_DATE','ORDER_TIME','FREIGHT_CHARGES','ORDER_SALESMAN',\n",
    "                           'ORDER_POSTED_DATE','ORDER_SHIP_DATE','AGE','ORDER_VALUE',\n",
    "                           'T_TYPE','PURCHASE_TOUCHPOINT','PURCHASE_STATUS',\n",
    "                           'ORDER_TYPE','GENERATION'], \n",
    "              value_vars=['Baby Food','Diapers','Formula','Lotion',\n",
    "                                            'Baby wash','Wipes','Fresh Fruits','Fresh Vegetables',\n",
    "                                            'Beer','Wine','Club Soda','Sports Drink','Chips','Popcorn',\n",
    "                                            'Oatmeal','Medicines','Canned Foods','Cigarettes','Cheese',\n",
    "                                            'Cleaning Products','Condiments','Frozen Foods','Kitchen Items',\n",
    "                                            'Meat','Office Supplies','Personal Care','Pet Supplies',\n",
    "                                            'Sea Food','Spices'], \n",
    "             var_name='Product', value_name='Quantity')\n",
    "\n",
    "\n",
    "#Select only rows in which a product was purchased\n",
    "df_clean = df_clean.loc[df_clean.Quantity > 0.0]"
   ]
  },
  {
   "cell_type": "markdown",
   "id": "75e76211",
   "metadata": {},
   "source": [
    "#### Test"
   ]
  },
  {
   "cell_type": "code",
   "execution_count": 10,
   "id": "d408370f",
   "metadata": {},
   "outputs": [
    {
     "data": {
      "text/plain": [
       "(757, 35)"
      ]
     },
     "execution_count": 10,
     "metadata": {},
     "output_type": "execute_result"
    }
   ],
   "source": [
    "# Confirm that the umber of columns has reduced\n",
    "df_clean.shape"
   ]
  },
  {
   "cell_type": "code",
   "execution_count": 11,
   "id": "600af102",
   "metadata": {},
   "outputs": [
    {
     "data": {
      "text/html": [
       "<div>\n",
       "<style scoped>\n",
       "    .dataframe tbody tr th:only-of-type {\n",
       "        vertical-align: middle;\n",
       "    }\n",
       "\n",
       "    .dataframe tbody tr th {\n",
       "        vertical-align: top;\n",
       "    }\n",
       "\n",
       "    .dataframe thead th {\n",
       "        text-align: right;\n",
       "    }\n",
       "</style>\n",
       "<table border=\"1\" class=\"dataframe\">\n",
       "  <thead>\n",
       "    <tr style=\"text-align: right;\">\n",
       "      <th></th>\n",
       "      <th>CUST_NAME</th>\n",
       "      <th>Gender_Code</th>\n",
       "      <th>ADDRESS1</th>\n",
       "      <th>CITY</th>\n",
       "      <th>STATE</th>\n",
       "      <th>COUNTRY_CODE</th>\n",
       "      <th>POSTAL_CODE</th>\n",
       "      <th>POSTAL_CODE_PLUS4</th>\n",
       "      <th>ADDRESS2</th>\n",
       "      <th>EMAIL_ADDRESS</th>\n",
       "      <th>...</th>\n",
       "      <th>ORDER_SHIP_DATE</th>\n",
       "      <th>AGE</th>\n",
       "      <th>ORDER_VALUE</th>\n",
       "      <th>T_TYPE</th>\n",
       "      <th>PURCHASE_TOUCHPOINT</th>\n",
       "      <th>PURCHASE_STATUS</th>\n",
       "      <th>ORDER_TYPE</th>\n",
       "      <th>GENERATION</th>\n",
       "      <th>Product</th>\n",
       "      <th>Quantity</th>\n",
       "    </tr>\n",
       "  </thead>\n",
       "  <tbody>\n",
       "    <tr>\n",
       "      <th>35</th>\n",
       "      <td>Reda Fullilove</td>\n",
       "      <td>Mrs.</td>\n",
       "      <td>518 Crestview Terrace</td>\n",
       "      <td>Alcalali</td>\n",
       "      <td>NaN</td>\n",
       "      <td>ES</td>\n",
       "      <td>3728</td>\n",
       "      <td>0.0</td>\n",
       "      <td>NaN</td>\n",
       "      <td>Reda.J.Fullilove@dodgeit.com</td>\n",
       "      <td>...</td>\n",
       "      <td>2016-10-27</td>\n",
       "      <td>24</td>\n",
       "      <td>129.77</td>\n",
       "      <td>Complete</td>\n",
       "      <td>Phone</td>\n",
       "      <td>FirstTime</td>\n",
       "      <td>MediumValue</td>\n",
       "      <td>Gen_Y</td>\n",
       "      <td>Baby Food</td>\n",
       "      <td>1.0</td>\n",
       "    </tr>\n",
       "    <tr>\n",
       "      <th>37</th>\n",
       "      <td>Cecil Games</td>\n",
       "      <td>Mr.</td>\n",
       "      <td>3747 Abner Road</td>\n",
       "      <td>Aldearrubia</td>\n",
       "      <td>NaN</td>\n",
       "      <td>ES</td>\n",
       "      <td>37340</td>\n",
       "      <td>0.0</td>\n",
       "      <td>NaN</td>\n",
       "      <td>Cecil.A.Games@trashymail.com</td>\n",
       "      <td>...</td>\n",
       "      <td>2016-12-15</td>\n",
       "      <td>age-32</td>\n",
       "      <td>173.62</td>\n",
       "      <td>Complete</td>\n",
       "      <td>Phone</td>\n",
       "      <td>FirstTime</td>\n",
       "      <td>HighValue</td>\n",
       "      <td>Gen_Z</td>\n",
       "      <td>Baby Food</td>\n",
       "      <td>1.0</td>\n",
       "    </tr>\n",
       "    <tr>\n",
       "      <th>60</th>\n",
       "      <td>Phyllis White</td>\n",
       "      <td>Mrs.</td>\n",
       "      <td>4738 Jerry Dove Drive</td>\n",
       "      <td>Angas Plains</td>\n",
       "      <td>SA</td>\n",
       "      <td>AU</td>\n",
       "      <td>5255</td>\n",
       "      <td>0.0</td>\n",
       "      <td>NaN</td>\n",
       "      <td>Phyllis.J.White@pookmail.com</td>\n",
       "      <td>...</td>\n",
       "      <td>2016-05-08</td>\n",
       "      <td>51</td>\n",
       "      <td>33.70</td>\n",
       "      <td>In-Progress</td>\n",
       "      <td>Phone</td>\n",
       "      <td>Occasional</td>\n",
       "      <td>LowValue</td>\n",
       "      <td>Gen_X</td>\n",
       "      <td>Baby Food</td>\n",
       "      <td>1.0</td>\n",
       "    </tr>\n",
       "  </tbody>\n",
       "</table>\n",
       "<p>3 rows × 35 columns</p>\n",
       "</div>"
      ],
      "text/plain": [
       "               CUST_NAME Gender_Code               ADDRESS1          CITY  \\\n",
       "35  Reda Fullilove              Mrs.  518 Crestview Terrace      Alcalali   \n",
       "37  Cecil Games                  Mr.        3747 Abner Road   Aldearrubia   \n",
       "60  Phyllis White               Mrs.  4738 Jerry Dove Drive  Angas Plains   \n",
       "\n",
       "   STATE COUNTRY_CODE POSTAL_CODE  POSTAL_CODE_PLUS4  ADDRESS2  \\\n",
       "35   NaN           ES        3728                0.0       NaN   \n",
       "37   NaN           ES       37340                0.0       NaN   \n",
       "60    SA           AU        5255                0.0       NaN   \n",
       "\n",
       "                   EMAIL_ADDRESS  ... ORDER_SHIP_DATE     AGE  ORDER_VALUE  \\\n",
       "35  Reda.J.Fullilove@dodgeit.com  ...      2016-10-27      24       129.77   \n",
       "37  Cecil.A.Games@trashymail.com  ...      2016-12-15  age-32       173.62   \n",
       "60  Phyllis.J.White@pookmail.com  ...      2016-05-08      51        33.70   \n",
       "\n",
       "         T_TYPE PURCHASE_TOUCHPOINT PURCHASE_STATUS   ORDER_TYPE  GENERATION  \\\n",
       "35     Complete               Phone       FirstTime  MediumValue       Gen_Y   \n",
       "37     Complete               Phone       FirstTime    HighValue       Gen_Z   \n",
       "60  In-Progress               Phone      Occasional     LowValue       Gen_X   \n",
       "\n",
       "      Product  Quantity  \n",
       "35  Baby Food       1.0  \n",
       "37  Baby Food       1.0  \n",
       "60  Baby Food       1.0  \n",
       "\n",
       "[3 rows x 35 columns]"
      ]
     },
     "execution_count": 11,
     "metadata": {},
     "output_type": "execute_result"
    }
   ],
   "source": [
    "# View table to confirm changes \n",
    "df_clean.head(3)"
   ]
  },
  {
   "cell_type": "markdown",
   "id": "991cb6f1",
   "metadata": {},
   "source": [
    "#### Define\n",
    "Change all column names to lower case letters"
   ]
  },
  {
   "cell_type": "markdown",
   "id": "01bccc9d",
   "metadata": {},
   "source": [
    "#### Code"
   ]
  },
  {
   "cell_type": "code",
   "execution_count": 12,
   "id": "3e839898",
   "metadata": {},
   "outputs": [],
   "source": [
    "# convert column names to lower case \n",
    "df_clean.columns= df_clean.columns.str.lower()"
   ]
  },
  {
   "cell_type": "markdown",
   "id": "c576f428",
   "metadata": {},
   "source": [
    "#### Test"
   ]
  },
  {
   "cell_type": "code",
   "execution_count": 13,
   "id": "e425f9b4",
   "metadata": {},
   "outputs": [
    {
     "data": {
      "text/plain": [
       "Index(['cust_name', 'gender_code', 'address1', 'city', 'state', 'country_code',\n",
       "       'postal_code', 'postal_code_plus4', 'address2', 'email_address',\n",
       "       'phone_number', 'creditcard_type', 'locality', 'salesman_id',\n",
       "       'nationality', 'national_id', 'creditcard_number', 'driver_license',\n",
       "       'cust_id', 'order_id', 'order_date', 'order_time', 'freight_charges',\n",
       "       'order_salesman', 'order_posted_date', 'order_ship_date', 'age',\n",
       "       'order_value', 't_type', 'purchase_touchpoint', 'purchase_status',\n",
       "       'order_type', 'generation', 'product', 'quantity'],\n",
       "      dtype='object')"
      ]
     },
     "execution_count": 13,
     "metadata": {},
     "output_type": "execute_result"
    }
   ],
   "source": [
    "# Check the column names\n",
    "df_clean.columns"
   ]
  },
  {
   "cell_type": "markdown",
   "id": "b6fc599e",
   "metadata": {},
   "source": [
    "#### Define\n",
    "Drop columns that are unnecesary for this analysis"
   ]
  },
  {
   "cell_type": "markdown",
   "id": "6f4829bf",
   "metadata": {},
   "source": [
    "#### Code"
   ]
  },
  {
   "cell_type": "code",
   "execution_count": 14,
   "id": "f04bb80e",
   "metadata": {},
   "outputs": [],
   "source": [
    "# The POSTAL_CODE_PLUS4, ORDER_POSTED_DATE and ORDER_DATE has too many incomplete data\n",
    "# NATIONAL_ID and CREDITCARD_NUMBER has too much unusable entries \n",
    "# Columns ADDRESS2, LOCALITY and DRIVER_LICENSE does not have any value. \n",
    "\n",
    "df_clean = df_clean.drop(['postal_code_plus4', 'order_posted_date', 'order_date','national_id', \n",
    "                          'creditcard_number', 'address2', 'locality', 'driver_license', 'quantity'], axis=1)"
   ]
  },
  {
   "cell_type": "markdown",
   "id": "54025642",
   "metadata": {},
   "source": [
    "#### Test"
   ]
  },
  {
   "cell_type": "code",
   "execution_count": 15,
   "id": "b5817492",
   "metadata": {},
   "outputs": [
    {
     "data": {
      "text/plain": [
       "Index(['cust_name', 'gender_code', 'address1', 'city', 'state', 'country_code',\n",
       "       'postal_code', 'email_address', 'phone_number', 'creditcard_type',\n",
       "       'salesman_id', 'nationality', 'cust_id', 'order_id', 'order_time',\n",
       "       'freight_charges', 'order_salesman', 'order_ship_date', 'age',\n",
       "       'order_value', 't_type', 'purchase_touchpoint', 'purchase_status',\n",
       "       'order_type', 'generation', 'product'],\n",
       "      dtype='object')"
      ]
     },
     "execution_count": 15,
     "metadata": {},
     "output_type": "execute_result"
    }
   ],
   "source": [
    "# Confirm that dropped columns no longer exist\n",
    "df_clean.columns"
   ]
  },
  {
   "cell_type": "code",
   "execution_count": 16,
   "id": "014ae1f8",
   "metadata": {},
   "outputs": [
    {
     "data": {
      "text/plain": [
       "(757, 26)"
      ]
     },
     "execution_count": 16,
     "metadata": {},
     "output_type": "execute_result"
    }
   ],
   "source": [
    "# Check the number of rows and columns remaining in the dataset\n",
    "df_clean.shape"
   ]
  },
  {
   "cell_type": "markdown",
   "id": "048a25b3",
   "metadata": {},
   "source": [
    "#### Define\n",
    "Extract only numbers from age column"
   ]
  },
  {
   "cell_type": "markdown",
   "id": "10754f79",
   "metadata": {},
   "source": [
    "#### Code"
   ]
  },
  {
   "cell_type": "code",
   "execution_count": 17,
   "id": "694b1d25",
   "metadata": {},
   "outputs": [],
   "source": [
    "# convert to string data type to be able to use the extract method of string\n",
    "df_clean['age'] = df_clean['age'].astype('str')\n",
    "\n",
    "#Exctract the numbers from the columns\n",
    "df_clean['age'] = df_clean['age'].str.extract('(\\d+)', expand=False)"
   ]
  },
  {
   "cell_type": "markdown",
   "id": "5603f190",
   "metadata": {},
   "source": [
    "#### Test"
   ]
  },
  {
   "cell_type": "code",
   "execution_count": 18,
   "id": "6c01a327",
   "metadata": {},
   "outputs": [
    {
     "data": {
      "text/html": [
       "<div>\n",
       "<style scoped>\n",
       "    .dataframe tbody tr th:only-of-type {\n",
       "        vertical-align: middle;\n",
       "    }\n",
       "\n",
       "    .dataframe tbody tr th {\n",
       "        vertical-align: top;\n",
       "    }\n",
       "\n",
       "    .dataframe thead th {\n",
       "        text-align: right;\n",
       "    }\n",
       "</style>\n",
       "<table border=\"1\" class=\"dataframe\">\n",
       "  <thead>\n",
       "    <tr style=\"text-align: right;\">\n",
       "      <th></th>\n",
       "      <th>age</th>\n",
       "    </tr>\n",
       "  </thead>\n",
       "  <tbody>\n",
       "    <tr>\n",
       "      <th>1947</th>\n",
       "      <td>27</td>\n",
       "    </tr>\n",
       "    <tr>\n",
       "      <th>4654</th>\n",
       "      <td>79</td>\n",
       "    </tr>\n",
       "    <tr>\n",
       "      <th>3320</th>\n",
       "      <td>63</td>\n",
       "    </tr>\n",
       "    <tr>\n",
       "      <th>5548</th>\n",
       "      <td>65</td>\n",
       "    </tr>\n",
       "    <tr>\n",
       "      <th>5345</th>\n",
       "      <td>28</td>\n",
       "    </tr>\n",
       "    <tr>\n",
       "      <th>4428</th>\n",
       "      <td>73</td>\n",
       "    </tr>\n",
       "    <tr>\n",
       "      <th>1232</th>\n",
       "      <td>60</td>\n",
       "    </tr>\n",
       "    <tr>\n",
       "      <th>1402</th>\n",
       "      <td>NaN</td>\n",
       "    </tr>\n",
       "    <tr>\n",
       "      <th>3369</th>\n",
       "      <td>53</td>\n",
       "    </tr>\n",
       "    <tr>\n",
       "      <th>1751</th>\n",
       "      <td>35</td>\n",
       "    </tr>\n",
       "  </tbody>\n",
       "</table>\n",
       "</div>"
      ],
      "text/plain": [
       "      age\n",
       "1947   27\n",
       "4654   79\n",
       "3320   63\n",
       "5548   65\n",
       "5345   28\n",
       "4428   73\n",
       "1232   60\n",
       "1402  NaN\n",
       "3369   53\n",
       "1751   35"
      ]
     },
     "execution_count": 18,
     "metadata": {},
     "output_type": "execute_result"
    }
   ],
   "source": [
    "df_clean[['age']].sample(10)"
   ]
  },
  {
   "cell_type": "markdown",
   "id": "6361e039",
   "metadata": {},
   "source": [
    "#### Define\n",
    "Replace NaN age with 0"
   ]
  },
  {
   "cell_type": "markdown",
   "id": "88b25e27",
   "metadata": {},
   "source": [
    "#### Code"
   ]
  },
  {
   "cell_type": "code",
   "execution_count": 19,
   "id": "3cc75d9c",
   "metadata": {},
   "outputs": [],
   "source": [
    "df_clean['age'] = df_clean.age.fillna(0)\n"
   ]
  },
  {
   "cell_type": "markdown",
   "id": "6357b262",
   "metadata": {},
   "source": [
    "#### Test"
   ]
  },
  {
   "cell_type": "code",
   "execution_count": 20,
   "id": "9a9c1ab8",
   "metadata": {},
   "outputs": [
    {
     "data": {
      "text/html": [
       "<div>\n",
       "<style scoped>\n",
       "    .dataframe tbody tr th:only-of-type {\n",
       "        vertical-align: middle;\n",
       "    }\n",
       "\n",
       "    .dataframe tbody tr th {\n",
       "        vertical-align: top;\n",
       "    }\n",
       "\n",
       "    .dataframe thead th {\n",
       "        text-align: right;\n",
       "    }\n",
       "</style>\n",
       "<table border=\"1\" class=\"dataframe\">\n",
       "  <thead>\n",
       "    <tr style=\"text-align: right;\">\n",
       "      <th></th>\n",
       "      <th>age</th>\n",
       "    </tr>\n",
       "  </thead>\n",
       "  <tbody>\n",
       "    <tr>\n",
       "      <th>4446</th>\n",
       "      <td>68</td>\n",
       "    </tr>\n",
       "    <tr>\n",
       "      <th>3454</th>\n",
       "      <td>0</td>\n",
       "    </tr>\n",
       "    <tr>\n",
       "      <th>2127</th>\n",
       "      <td>53</td>\n",
       "    </tr>\n",
       "    <tr>\n",
       "      <th>1519</th>\n",
       "      <td>19</td>\n",
       "    </tr>\n",
       "    <tr>\n",
       "      <th>5295</th>\n",
       "      <td>65</td>\n",
       "    </tr>\n",
       "    <tr>\n",
       "      <th>183</th>\n",
       "      <td>0</td>\n",
       "    </tr>\n",
       "    <tr>\n",
       "      <th>1204</th>\n",
       "      <td>0</td>\n",
       "    </tr>\n",
       "    <tr>\n",
       "      <th>2537</th>\n",
       "      <td>53</td>\n",
       "    </tr>\n",
       "    <tr>\n",
       "      <th>2577</th>\n",
       "      <td>38</td>\n",
       "    </tr>\n",
       "    <tr>\n",
       "      <th>2348</th>\n",
       "      <td>40</td>\n",
       "    </tr>\n",
       "  </tbody>\n",
       "</table>\n",
       "</div>"
      ],
      "text/plain": [
       "     age\n",
       "4446  68\n",
       "3454   0\n",
       "2127  53\n",
       "1519  19\n",
       "5295  65\n",
       "183    0\n",
       "1204   0\n",
       "2537  53\n",
       "2577  38\n",
       "2348  40"
      ]
     },
     "execution_count": 20,
     "metadata": {},
     "output_type": "execute_result"
    }
   ],
   "source": [
    "df_clean[['age']].sample(10)"
   ]
  },
  {
   "cell_type": "code",
   "execution_count": null,
   "id": "4c878632",
   "metadata": {},
   "outputs": [],
   "source": []
  },
  {
   "cell_type": "markdown",
   "id": "4f46c4df",
   "metadata": {},
   "source": [
    "#### Define\n",
    "Change age, cust_id, and order_id, columns to integer data type"
   ]
  },
  {
   "cell_type": "markdown",
   "id": "181540d9",
   "metadata": {},
   "source": [
    "#### Code"
   ]
  },
  {
   "cell_type": "code",
   "execution_count": 21,
   "id": "d81203ce",
   "metadata": {},
   "outputs": [],
   "source": [
    "cols = [ 'age', 'cust_id', 'order_id']\n",
    "for x in cols:\n",
    "    df_clean[x] = df_clean[x].astype('int')"
   ]
  },
  {
   "cell_type": "markdown",
   "id": "b182629f",
   "metadata": {},
   "source": [
    "#### Test"
   ]
  },
  {
   "cell_type": "code",
   "execution_count": 22,
   "id": "a19716e1",
   "metadata": {},
   "outputs": [
    {
     "data": {
      "text/plain": [
       "cust_name                      object\n",
       "gender_code                    object\n",
       "address1                       object\n",
       "city                           object\n",
       "state                          object\n",
       "country_code                   object\n",
       "postal_code                    object\n",
       "email_address                  object\n",
       "phone_number                   object\n",
       "creditcard_type                object\n",
       "salesman_id                    object\n",
       "nationality                    object\n",
       "cust_id                         int32\n",
       "order_id                        int32\n",
       "order_time                     object\n",
       "freight_charges               float64\n",
       "order_salesman                 object\n",
       "order_ship_date        datetime64[ns]\n",
       "age                             int32\n",
       "order_value                   float64\n",
       "t_type                         object\n",
       "purchase_touchpoint            object\n",
       "purchase_status                object\n",
       "order_type                     object\n",
       "generation                     object\n",
       "product                        object\n",
       "dtype: object"
      ]
     },
     "execution_count": 22,
     "metadata": {},
     "output_type": "execute_result"
    }
   ],
   "source": [
    "# Check the variable datatypes \n",
    "df_clean.dtypes"
   ]
  },
  {
   "cell_type": "markdown",
   "id": "32b4a152",
   "metadata": {},
   "source": [
    "#### Define\n",
    "Convert 0 in the age column to the mean of age"
   ]
  },
  {
   "cell_type": "markdown",
   "id": "9ce9a916",
   "metadata": {},
   "source": [
    "#### Code"
   ]
  },
  {
   "cell_type": "code",
   "execution_count": 23,
   "id": "18a30288",
   "metadata": {},
   "outputs": [
    {
     "name": "stdout",
     "output_type": "stream",
     "text": [
      "The mean value od age is 43.97490092470277\n"
     ]
    }
   ],
   "source": [
    "# Create the mean of age\n",
    "mean_age = df_clean.age.mean()\n",
    "print(\"The mean value od age is {}\".format(mean_age))\n",
    "# cast the mean age as integer\n",
    "mean_age = int(mean_age)\n",
    "# replace 0 with mean value of age in age column\n",
    "df_clean.age = df_clean.age.replace(0, mean_age)"
   ]
  },
  {
   "cell_type": "markdown",
   "id": "62d04281",
   "metadata": {},
   "source": [
    "#### Test"
   ]
  },
  {
   "cell_type": "code",
   "execution_count": 24,
   "id": "e1ea2c15",
   "metadata": {},
   "outputs": [
    {
     "data": {
      "text/plain": [
       "2242    54\n",
       "817     27\n",
       "4080    27\n",
       "2165    68\n",
       "4731    65\n",
       "1873    32\n",
       "2805    52\n",
       "4106    47\n",
       "2134    75\n",
       "501     75\n",
       "Name: age, dtype: int32"
      ]
     },
     "execution_count": 24,
     "metadata": {},
     "output_type": "execute_result"
    }
   ],
   "source": [
    "df_clean.age.sample(10)"
   ]
  },
  {
   "cell_type": "markdown",
   "id": "77fdda59",
   "metadata": {},
   "source": [
    "#### Define\n",
    "Change the phone_number column values to standard phone number"
   ]
  },
  {
   "cell_type": "markdown",
   "id": "3ed6f12e",
   "metadata": {},
   "source": [
    "#### Code"
   ]
  },
  {
   "cell_type": "code",
   "execution_count": 25,
   "id": "e896f6c8",
   "metadata": {},
   "outputs": [],
   "source": [
    "# Your cleaning code here\n",
    "df_clean['phone_number'] = '0' + df_clean['phone_number'].str.extract('((?:\\+\\d{1,2}\\s)?\\(?\\d{3}\\)?[\\s.-]?\\d{3}[\\s.-]?\\d{4})', expand=True)"
   ]
  },
  {
   "cell_type": "markdown",
   "id": "1bff7dfc",
   "metadata": {},
   "source": [
    "#### Test"
   ]
  },
  {
   "cell_type": "code",
   "execution_count": 26,
   "id": "f684adec",
   "metadata": {
    "scrolled": false
   },
   "outputs": [
    {
     "data": {
      "text/html": [
       "<div>\n",
       "<style scoped>\n",
       "    .dataframe tbody tr th:only-of-type {\n",
       "        vertical-align: middle;\n",
       "    }\n",
       "\n",
       "    .dataframe tbody tr th {\n",
       "        vertical-align: top;\n",
       "    }\n",
       "\n",
       "    .dataframe thead th {\n",
       "        text-align: right;\n",
       "    }\n",
       "</style>\n",
       "<table border=\"1\" class=\"dataframe\">\n",
       "  <thead>\n",
       "    <tr style=\"text-align: right;\">\n",
       "      <th></th>\n",
       "      <th>phone_number</th>\n",
       "    </tr>\n",
       "  </thead>\n",
       "  <tbody>\n",
       "    <tr>\n",
       "      <th>35</th>\n",
       "      <td>NaN</td>\n",
       "    </tr>\n",
       "    <tr>\n",
       "      <th>37</th>\n",
       "      <td>NaN</td>\n",
       "    </tr>\n",
       "    <tr>\n",
       "      <th>60</th>\n",
       "      <td>NaN</td>\n",
       "    </tr>\n",
       "    <tr>\n",
       "      <th>67</th>\n",
       "      <td>0201-799-5873</td>\n",
       "    </tr>\n",
       "    <tr>\n",
       "      <th>106</th>\n",
       "      <td>NaN</td>\n",
       "    </tr>\n",
       "    <tr>\n",
       "      <th>...</th>\n",
       "      <td>...</td>\n",
       "    </tr>\n",
       "    <tr>\n",
       "      <th>5903</th>\n",
       "      <td>0864-527-3838</td>\n",
       "    </tr>\n",
       "    <tr>\n",
       "      <th>5904</th>\n",
       "      <td>0864-527-3838</td>\n",
       "    </tr>\n",
       "    <tr>\n",
       "      <th>5905</th>\n",
       "      <td>0864-527-3838</td>\n",
       "    </tr>\n",
       "    <tr>\n",
       "      <th>5906</th>\n",
       "      <td>0864-527-3838</td>\n",
       "    </tr>\n",
       "    <tr>\n",
       "      <th>5915</th>\n",
       "      <td>0803-223-5484</td>\n",
       "    </tr>\n",
       "  </tbody>\n",
       "</table>\n",
       "<p>757 rows × 1 columns</p>\n",
       "</div>"
      ],
      "text/plain": [
       "       phone_number\n",
       "35              NaN\n",
       "37              NaN\n",
       "60              NaN\n",
       "67    0201-799-5873\n",
       "106             NaN\n",
       "...             ...\n",
       "5903  0864-527-3838\n",
       "5904  0864-527-3838\n",
       "5905  0864-527-3838\n",
       "5906  0864-527-3838\n",
       "5915  0803-223-5484\n",
       "\n",
       "[757 rows x 1 columns]"
      ]
     },
     "execution_count": 26,
     "metadata": {},
     "output_type": "execute_result"
    }
   ],
   "source": [
    "# Check the phone_number column\n",
    "df_clean[['phone_number']]"
   ]
  },
  {
   "cell_type": "markdown",
   "id": "ce7f5e31",
   "metadata": {},
   "source": [
    "#### Define\n",
    "Convert all values in eamil_address column to small letter case"
   ]
  },
  {
   "cell_type": "markdown",
   "id": "1fda135b",
   "metadata": {},
   "source": [
    "#### Code"
   ]
  },
  {
   "cell_type": "code",
   "execution_count": 27,
   "id": "845db18a",
   "metadata": {},
   "outputs": [],
   "source": [
    "# Convert all email address to lower cse\n",
    "df_clean.email_address = df_clean.email_address.str.lower()"
   ]
  },
  {
   "cell_type": "markdown",
   "id": "a71d2941",
   "metadata": {},
   "source": [
    "#### Test"
   ]
  },
  {
   "cell_type": "code",
   "execution_count": 28,
   "id": "8138f32e",
   "metadata": {},
   "outputs": [
    {
     "data": {
      "text/plain": [
       "2230     joseph.s.rogers@mailinator.com\n",
       "2599       felix.r.myers@mailinator.com\n",
       "3327    katherine.w.mullins@spambob.com\n",
       "Name: email_address, dtype: object"
      ]
     },
     "execution_count": 28,
     "metadata": {},
     "output_type": "execute_result"
    }
   ],
   "source": [
    "# View sample eamil\n",
    "df_clean.email_address.sample(3)"
   ]
  },
  {
   "cell_type": "markdown",
   "id": "3ec128bb",
   "metadata": {},
   "source": [
    "#### Define\n",
    "Convert the order_time variable to a standard datatime format"
   ]
  },
  {
   "cell_type": "markdown",
   "id": "5b291a4d",
   "metadata": {},
   "source": [
    "#### Code"
   ]
  },
  {
   "cell_type": "code",
   "execution_count": 29,
   "id": "e9599447",
   "metadata": {},
   "outputs": [
    {
     "data": {
      "text/plain": [
       "35    00:43:54.600000\n",
       "37    00:23:44.800000\n",
       "Name: order_time, dtype: object"
      ]
     },
     "execution_count": 29,
     "metadata": {},
     "output_type": "execute_result"
    }
   ],
   "source": [
    "# Checking the data column \n",
    "df_clean['order_time'].head(2)"
   ]
  },
  {
   "cell_type": "code",
   "execution_count": 30,
   "id": "072ea070",
   "metadata": {},
   "outputs": [
    {
     "data": {
      "text/plain": [
       "35    00:43:54:600000\n",
       "37    00:23:44:800000\n",
       "Name: order_time, dtype: object"
      ]
     },
     "execution_count": 30,
     "metadata": {},
     "output_type": "execute_result"
    }
   ],
   "source": [
    "# Turning the date column to string\n",
    "df_clean['order_time'] = df_clean['order_time'].astype('str')\n",
    "\n",
    "# replacing the \".\" in the column with \":\" for easy conversion to datetime\n",
    "df_clean['order_time'] = df_clean['order_time'].str.replace('.',':', regex=True)\n",
    "\n",
    "df_clean['order_time'] .head(2)"
   ]
  },
  {
   "cell_type": "code",
   "execution_count": 31,
   "id": "1f912f92",
   "metadata": {},
   "outputs": [
    {
     "data": {
      "text/plain": [
       "35    43:54:6\n",
       "37    23:44:8\n",
       "60    47:25:4\n",
       "Name: order_time, dtype: object"
      ]
     },
     "execution_count": 31,
     "metadata": {},
     "output_type": "execute_result"
    }
   ],
   "source": [
    "# Selecting the portion of the data with time\n",
    "df_clean['order_time'] = df_clean['order_time'].str[3:-5]\n",
    "\n",
    "df_clean['order_time'].head(3)"
   ]
  },
  {
   "cell_type": "code",
   "execution_count": 32,
   "id": "ed9b6584",
   "metadata": {},
   "outputs": [
    {
     "data": {
      "text/plain": [
       "3291    02:46:19\n",
       "3271    04:25:47\n",
       "1957    06:55:27\n",
       "Name: order_time, dtype: object"
      ]
     },
     "execution_count": 32,
     "metadata": {},
     "output_type": "execute_result"
    }
   ],
   "source": [
    "# Reorderiing the time using .cat()\n",
    "df_clean['order_time'] = '0' + df_clean['order_time'].str[6:].str.cat(\n",
    "    df_clean['order_time'].str[3:5], sep =\":\").str.cat(\n",
    "    df_clean['order_time'].str[:2], sep =\":\")\n",
    "# create hour variable\n",
    "df_clean['hour'] = df_clean['order_time'].str[:2]\n",
    "df_clean['order_time'].sample(3)"
   ]
  },
  {
   "cell_type": "code",
   "execution_count": 33,
   "id": "914b9d56",
   "metadata": {},
   "outputs": [],
   "source": [
    "# Convert order_time to  standard time data_type\n",
    "df_clean['order_time'] = [pd.to_datetime(time) if time != '0::' else pd.to_datetime('00:00:00') for time in df_clean['order_time']]"
   ]
  },
  {
   "cell_type": "code",
   "execution_count": 34,
   "id": "59e66376",
   "metadata": {},
   "outputs": [],
   "source": [
    "# Select time\n",
    "df_clean['order_time'] = df_clean['order_time'].dt.time"
   ]
  },
  {
   "cell_type": "markdown",
   "id": "fa3bc442",
   "metadata": {},
   "source": [
    "#### Test"
   ]
  },
  {
   "cell_type": "code",
   "execution_count": 35,
   "id": "2942bac9",
   "metadata": {},
   "outputs": [
    {
     "data": {
      "text/plain": [
       "2899    02:06:39\n",
       "3417    06:55:27\n",
       "4139    06:16:34\n",
       "Name: order_time, dtype: object"
      ]
     },
     "execution_count": 35,
     "metadata": {},
     "output_type": "execute_result"
    }
   ],
   "source": [
    "df_clean.order_time.sample(3)"
   ]
  },
  {
   "cell_type": "markdown",
   "id": "1a393f2b",
   "metadata": {},
   "source": [
    "#### Define\n",
    "Convert all __`Miss.`__ to __`Mrs.`__ and __`Master`__ to __`Mr.`__ in gender_code column"
   ]
  },
  {
   "cell_type": "markdown",
   "id": "9bc02ed9",
   "metadata": {},
   "source": [
    "#### Code"
   ]
  },
  {
   "cell_type": "code",
   "execution_count": 36,
   "id": "dc079b51",
   "metadata": {},
   "outputs": [],
   "source": [
    "# Convert Miss. to Mrs.\n",
    "df_clean.gender_code = df_clean.gender_code.str.replace(\"Miss\",\"Mrs\", regex=True)"
   ]
  },
  {
   "cell_type": "code",
   "execution_count": 37,
   "id": "22e2cc2f",
   "metadata": {},
   "outputs": [],
   "source": [
    "# Convert Master to Mr.\n",
    "df_clean.gender_code = df_clean.gender_code.str.replace(\"Master\",\"Mr\", regex=True)"
   ]
  },
  {
   "cell_type": "markdown",
   "id": "250b7fc8",
   "metadata": {},
   "source": [
    "#### Test"
   ]
  },
  {
   "cell_type": "code",
   "execution_count": 38,
   "id": "f6684af1",
   "metadata": {},
   "outputs": [
    {
     "data": {
      "text/plain": [
       "Mr.     407\n",
       "Mrs.    350\n",
       "Name: gender_code, dtype: int64"
      ]
     },
     "execution_count": 38,
     "metadata": {},
     "output_type": "execute_result"
    }
   ],
   "source": [
    "# Check the different gender_code in the column\n",
    "df_clean.gender_code.value_counts()"
   ]
  },
  {
   "cell_type": "markdown",
   "id": "da145e42",
   "metadata": {},
   "source": [
    "#### Define\n",
    "Convert the following variables to category datatype: \n",
    "* gender_code\n",
    "* country_code\n",
    "* creditcard_type\n",
    "* nationality\n",
    "* t_type\n",
    "* purchase_touchpoint\n",
    "* purchase_status\n",
    "* order_type\n",
    "* generation"
   ]
  },
  {
   "cell_type": "markdown",
   "id": "10f06d67",
   "metadata": {},
   "source": [
    "#### Code"
   ]
  },
  {
   "cell_type": "code",
   "execution_count": 39,
   "id": "cdc8811b",
   "metadata": {},
   "outputs": [],
   "source": [
    "# Create a list of variables to convert into categorical datatype\n",
    "cols = ['gender_code','country_code','creditcard_type','nationality','t_type',\n",
    "          'purchase_touchpoint','purchase_status','order_type','generation']\n",
    "\n",
    "# Loop through the variables and convert each to categorical data type\n",
    "for x in cols:\n",
    "    df_clean[x] = df_clean[x].astype('category')"
   ]
  },
  {
   "cell_type": "markdown",
   "id": "2c17d5f5",
   "metadata": {},
   "source": [
    "#### Test"
   ]
  },
  {
   "cell_type": "code",
   "execution_count": 40,
   "id": "a956782d",
   "metadata": {},
   "outputs": [
    {
     "data": {
      "text/plain": [
       "gender_code            category\n",
       "country_code           category\n",
       "creditcard_type        category\n",
       "nationality            category\n",
       "t_type                 category\n",
       "purchase_touchpoint    category\n",
       "purchase_status        category\n",
       "order_type             category\n",
       "generation             category\n",
       "dtype: object"
      ]
     },
     "execution_count": 40,
     "metadata": {},
     "output_type": "execute_result"
    }
   ],
   "source": [
    "# Confirm that they have all been converted into a categorical data type\n",
    "df_clean[['gender_code','country_code','creditcard_type','nationality','t_type',\n",
    "          'purchase_touchpoint','purchase_status','order_type','generation']].dtypes"
   ]
  },
  {
   "cell_type": "markdown",
   "id": "f968eb1b",
   "metadata": {},
   "source": [
    "#### Define \n",
    "Drop duplicate rows "
   ]
  },
  {
   "cell_type": "markdown",
   "id": "0e58fb76",
   "metadata": {},
   "source": [
    "#### Code"
   ]
  },
  {
   "cell_type": "code",
   "execution_count": 41,
   "id": "687bf304",
   "metadata": {},
   "outputs": [],
   "source": [
    "# Drop duplicates\n",
    "df_clean = df_clean.drop_duplicates()"
   ]
  },
  {
   "cell_type": "markdown",
   "id": "b2c2d8e5",
   "metadata": {},
   "source": [
    "#### Test"
   ]
  },
  {
   "cell_type": "code",
   "execution_count": 42,
   "id": "36f56e07",
   "metadata": {},
   "outputs": [
    {
     "data": {
      "text/html": [
       "<div>\n",
       "<style scoped>\n",
       "    .dataframe tbody tr th:only-of-type {\n",
       "        vertical-align: middle;\n",
       "    }\n",
       "\n",
       "    .dataframe tbody tr th {\n",
       "        vertical-align: top;\n",
       "    }\n",
       "\n",
       "    .dataframe thead th {\n",
       "        text-align: right;\n",
       "    }\n",
       "</style>\n",
       "<table border=\"1\" class=\"dataframe\">\n",
       "  <thead>\n",
       "    <tr style=\"text-align: right;\">\n",
       "      <th></th>\n",
       "      <th>cust_name</th>\n",
       "      <th>gender_code</th>\n",
       "      <th>address1</th>\n",
       "      <th>city</th>\n",
       "      <th>state</th>\n",
       "      <th>country_code</th>\n",
       "      <th>postal_code</th>\n",
       "      <th>email_address</th>\n",
       "      <th>phone_number</th>\n",
       "      <th>creditcard_type</th>\n",
       "      <th>...</th>\n",
       "      <th>order_ship_date</th>\n",
       "      <th>age</th>\n",
       "      <th>order_value</th>\n",
       "      <th>t_type</th>\n",
       "      <th>purchase_touchpoint</th>\n",
       "      <th>purchase_status</th>\n",
       "      <th>order_type</th>\n",
       "      <th>generation</th>\n",
       "      <th>product</th>\n",
       "      <th>hour</th>\n",
       "    </tr>\n",
       "  </thead>\n",
       "  <tbody>\n",
       "  </tbody>\n",
       "</table>\n",
       "<p>0 rows × 27 columns</p>\n",
       "</div>"
      ],
      "text/plain": [
       "Empty DataFrame\n",
       "Columns: [cust_name, gender_code, address1, city, state, country_code, postal_code, email_address, phone_number, creditcard_type, salesman_id, nationality, cust_id, order_id, order_time, freight_charges, order_salesman, order_ship_date, age, order_value, t_type, purchase_touchpoint, purchase_status, order_type, generation, product, hour]\n",
       "Index: []\n",
       "\n",
       "[0 rows x 27 columns]"
      ]
     },
     "execution_count": 42,
     "metadata": {},
     "output_type": "execute_result"
    }
   ],
   "source": [
    "# Confirm that there is no more duplicates in the dataset\n",
    "df_clean[df_clean.duplicated()]"
   ]
  },
  {
   "cell_type": "markdown",
   "id": "d0a8d3d3",
   "metadata": {},
   "source": [
    "#### Define:\n",
    "Replace `American Expres` with `American Express` in the __creditcard type__ column\n"
   ]
  },
  {
   "cell_type": "markdown",
   "id": "89dadc7d",
   "metadata": {},
   "source": [
    "#### Code:"
   ]
  },
  {
   "cell_type": "code",
   "execution_count": 43,
   "id": "821375ce",
   "metadata": {},
   "outputs": [],
   "source": [
    "df_clean.creditcard_type = df_clean.creditcard_type.replace('American Expres', 'American Express')"
   ]
  },
  {
   "cell_type": "markdown",
   "id": "4bdcdbfc",
   "metadata": {},
   "source": [
    "#### Test:"
   ]
  },
  {
   "cell_type": "code",
   "execution_count": 44,
   "id": "3a85758b",
   "metadata": {},
   "outputs": [
    {
     "data": {
      "text/plain": [
       "Diners Club         190\n",
       "VISA                169\n",
       "American Express    147\n",
       "jcb                  96\n",
       "Discover             75\n",
       "Master Card          63\n",
       "Name: creditcard_type, dtype: int64"
      ]
     },
     "execution_count": 44,
     "metadata": {},
     "output_type": "execute_result"
    }
   ],
   "source": [
    "df_clean.creditcard_type.value_counts()"
   ]
  },
  {
   "cell_type": "markdown",
   "id": "b8ab6b3c",
   "metadata": {},
   "source": [
    "#### Define\n",
    "Create day of week column"
   ]
  },
  {
   "cell_type": "markdown",
   "id": "f2dedc45",
   "metadata": {},
   "source": [
    "#### Code:"
   ]
  },
  {
   "cell_type": "code",
   "execution_count": 45,
   "id": "9ff7edad",
   "metadata": {},
   "outputs": [],
   "source": [
    "df_clean['day'] = df_clean['order_ship_date'].dt.dayofweek"
   ]
  },
  {
   "cell_type": "markdown",
   "id": "f8275fb7",
   "metadata": {},
   "source": [
    "#### Test"
   ]
  },
  {
   "cell_type": "code",
   "execution_count": 46,
   "id": "8609b4e8",
   "metadata": {},
   "outputs": [
    {
     "data": {
      "text/html": [
       "<div>\n",
       "<style scoped>\n",
       "    .dataframe tbody tr th:only-of-type {\n",
       "        vertical-align: middle;\n",
       "    }\n",
       "\n",
       "    .dataframe tbody tr th {\n",
       "        vertical-align: top;\n",
       "    }\n",
       "\n",
       "    .dataframe thead th {\n",
       "        text-align: right;\n",
       "    }\n",
       "</style>\n",
       "<table border=\"1\" class=\"dataframe\">\n",
       "  <thead>\n",
       "    <tr style=\"text-align: right;\">\n",
       "      <th></th>\n",
       "      <th>day</th>\n",
       "    </tr>\n",
       "  </thead>\n",
       "  <tbody>\n",
       "    <tr>\n",
       "      <th>35</th>\n",
       "      <td>3</td>\n",
       "    </tr>\n",
       "    <tr>\n",
       "      <th>37</th>\n",
       "      <td>3</td>\n",
       "    </tr>\n",
       "    <tr>\n",
       "      <th>60</th>\n",
       "      <td>6</td>\n",
       "    </tr>\n",
       "    <tr>\n",
       "      <th>67</th>\n",
       "      <td>1</td>\n",
       "    </tr>\n",
       "    <tr>\n",
       "      <th>106</th>\n",
       "      <td>0</td>\n",
       "    </tr>\n",
       "    <tr>\n",
       "      <th>...</th>\n",
       "      <td>...</td>\n",
       "    </tr>\n",
       "    <tr>\n",
       "      <th>5903</th>\n",
       "      <td>6</td>\n",
       "    </tr>\n",
       "    <tr>\n",
       "      <th>5904</th>\n",
       "      <td>3</td>\n",
       "    </tr>\n",
       "    <tr>\n",
       "      <th>5905</th>\n",
       "      <td>5</td>\n",
       "    </tr>\n",
       "    <tr>\n",
       "      <th>5906</th>\n",
       "      <td>2</td>\n",
       "    </tr>\n",
       "    <tr>\n",
       "      <th>5915</th>\n",
       "      <td>5</td>\n",
       "    </tr>\n",
       "  </tbody>\n",
       "</table>\n",
       "<p>740 rows × 1 columns</p>\n",
       "</div>"
      ],
      "text/plain": [
       "      day\n",
       "35      3\n",
       "37      3\n",
       "60      6\n",
       "67      1\n",
       "106     0\n",
       "...   ...\n",
       "5903    6\n",
       "5904    3\n",
       "5905    5\n",
       "5906    2\n",
       "5915    5\n",
       "\n",
       "[740 rows x 1 columns]"
      ]
     },
     "execution_count": 46,
     "metadata": {},
     "output_type": "execute_result"
    }
   ],
   "source": [
    "df_clean[['day']]"
   ]
  },
  {
   "cell_type": "code",
   "execution_count": 47,
   "id": "3934abaa",
   "metadata": {},
   "outputs": [],
   "source": [
    "day_category = pd.api.types.CategoricalDtype([0, 1, 2, 3, 4, 5, 6], ordered=True)\n",
    "df_clean['day'] = df_clean['day'].astype(day_category)\n",
    "    "
   ]
  },
  {
   "cell_type": "code",
   "execution_count": 48,
   "id": "1bf24f44",
   "metadata": {},
   "outputs": [
    {
     "data": {
      "text/plain": [
       "CategoricalDtype(categories=[0, 1, 2, 3, 4, 5, 6], ordered=True)"
      ]
     },
     "execution_count": 48,
     "metadata": {},
     "output_type": "execute_result"
    }
   ],
   "source": [
    "df_clean.day.dtype"
   ]
  },
  {
   "cell_type": "markdown",
   "id": "e1def886",
   "metadata": {},
   "source": [
    "## Univariate Visualization"
   ]
  },
  {
   "cell_type": "code",
   "execution_count": 49,
   "id": "11d26bcc",
   "metadata": {},
   "outputs": [],
   "source": [
    "# set a base color for visualization\n",
    "base_color = sns.color_palette()[0]"
   ]
  },
  {
   "cell_type": "code",
   "execution_count": 50,
   "id": "3939a444",
   "metadata": {
    "scrolled": true
   },
   "outputs": [
    {
     "data": {
      "image/png": "[encoded data removed]",
      "text/plain": [
       "<Figure size 432x288 with 1 Axes>"
      ]
     },
     "metadata": {},
     "output_type": "display_data"
    }
   ],
   "source": [
    "labels = ['Male', 'Female']\n",
    "plt.pie(df_clean.gender_code.value_counts(), labels = labels, autopct='%.0f%%', startangle = 90)\n",
    "plt.title(\"Percentage of male and female\")\n",
    "plt.show()"
   ]
  },
  {
   "cell_type": "markdown",
   "id": "89d4e0f3",
   "metadata": {},
   "source": [
    "The number of male records is slightly more than the female."
   ]
  },
  {
   "cell_type": "code",
   "execution_count": 57,
   "id": "6e7650a3",
   "metadata": {},
   "outputs": [
    {
     "data": {
      "image/png": "[encoded data removed]",
      "text/plain": [
       "<Figure size 432x288 with 1 Axes>"
      ]
     },
     "metadata": {},
     "output_type": "display_data"
    }
   ],
   "source": [
    "labels = ['Phone', 'Desktop']\n",
    "plt.pie(df_clean.purchase_touchpoint.value_counts(), labels = labels, autopct='%.0f%%', startangle = 90)\n",
    "plt.title('Purchase Touch Point')\n",
    "plt.legend(labels)\n",
    "plt.show()"
   ]
  },
  {
   "cell_type": "markdown",
   "id": "326cd4c1",
   "metadata": {},
   "source": [
    "The use of phone at touchpoint is more than desktop"
   ]
  },
  {
   "cell_type": "code",
   "execution_count": 58,
   "id": "51cf6a59",
   "metadata": {
    "scrolled": true
   },
   "outputs": [
    {
     "data": {
      "image/png": "[encoded data removed]",
      "text/plain": [
       "<Figure size 432x288 with 1 Axes>"
      ]
     },
     "metadata": {
      "needs_background": "light"
     },
     "output_type": "display_data"
    }
   ],
   "source": [
    "sns.countplot(data = df_clean, x = 'purchase_status', color=base_color)\n",
    "plt.title('Frequency of purchase')\n",
    "plt.show()"
   ]
  },
  {
   "cell_type": "markdown",
   "id": "c120f030",
   "metadata": {},
   "source": [
    "There are more people that ocassionally buys than those that frequently buys from the shops. The first time buyers are the least"
   ]
  },
  {
   "cell_type": "code",
   "execution_count": 59,
   "id": "d3c2370f",
   "metadata": {
    "scrolled": true
   },
   "outputs": [
    {
     "data": {
      "image/png": "[encoded data removed]",
      "text/plain": [
       "<Figure size 432x288 with 1 Axes>"
      ]
     },
     "metadata": {
      "needs_background": "light"
     },
     "output_type": "display_data"
    }
   ],
   "source": [
    "sns.countplot(data = df_clean, x = 'country_code', color=base_color)\n",
    "plt.title('Number of purchase per country')\n",
    "plt.show()"
   ]
  },
  {
   "cell_type": "markdown",
   "id": "beba84c3",
   "metadata": {},
   "source": [
    "The system is used mostly in __USA__"
   ]
  },
  {
   "cell_type": "code",
   "execution_count": 60,
   "id": "a054240f",
   "metadata": {},
   "outputs": [
    {
     "data": {
      "image/png": "[encoded data removed]",
      "text/plain": [
       "<Figure size 432x288 with 1 Axes>"
      ]
     },
     "metadata": {
      "needs_background": "light"
     },
     "output_type": "display_data"
    }
   ],
   "source": [
    "sns.countplot(data = df_clean, x = 'nationality', color=base_color)\n",
    "plt.title('Country of birth')\n",
    "plt.xticks(rotation=30)\n",
    "plt.show()"
   ]
  },
  {
   "cell_type": "markdown",
   "id": "0729f246",
   "metadata": {},
   "source": [
    "There are more people from __France__ than any other country"
   ]
  },
  {
   "cell_type": "code",
   "execution_count": 61,
   "id": "ea09af55",
   "metadata": {},
   "outputs": [
    {
     "data": {
      "image/png": "[encoded data removed]",
      "text/plain": [
       "<Figure size 432x288 with 1 Axes>"
      ]
     },
     "metadata": {
      "needs_background": "light"
     },
     "output_type": "display_data"
    }
   ],
   "source": [
    "sns.countplot(data = df_clean, x = 'creditcard_type', color=base_color)\n",
    "plt.title('Distribution of card type')\n",
    "plt.xticks(rotation=40);"
   ]
  },
  {
   "cell_type": "markdown",
   "id": "d8e9ed73",
   "metadata": {},
   "source": [
    "The `Dinners Club` is mostly used, followed by the `VISA card` and `American Express` is the least used"
   ]
  },
  {
   "cell_type": "code",
   "execution_count": 62,
   "id": "585f34de",
   "metadata": {
    "scrolled": true
   },
   "outputs": [
    {
     "data": {
      "image/png": "[encoded data removed]",
      "text/plain": [
       "<Figure size 432x288 with 1 Axes>"
      ]
     },
     "metadata": {
      "needs_background": "light"
     },
     "output_type": "display_data"
    }
   ],
   "source": [
    "sns.countplot(data = df_clean, x = 't_type', color=base_color)\n",
    "plt.title('Transaction Type')\n",
    "plt.show()"
   ]
  },
  {
   "cell_type": "markdown",
   "id": "f9d826d0",
   "metadata": {},
   "source": [
    "Most transactions are completed whlie very few are abandoned or calcelled or in-progress"
   ]
  },
  {
   "cell_type": "code",
   "execution_count": 63,
   "id": "f4c22261",
   "metadata": {},
   "outputs": [
    {
     "data": {
      "image/png": "[encoded data removed]",
      "text/plain": [
       "<Figure size 432x288 with 1 Axes>"
      ]
     },
     "metadata": {
      "needs_background": "light"
     },
     "output_type": "display_data"
    }
   ],
   "source": [
    "sns.countplot(data = df_clean, x = 'order_type', color=base_color)\n",
    "plt.title('Order Value')\n",
    "plt.show()"
   ]
  },
  {
   "cell_type": "markdown",
   "id": "9d7c2b6c",
   "metadata": {},
   "source": [
    "Most purchase are either low value or high value. There are few orders with medium value"
   ]
  },
  {
   "cell_type": "code",
   "execution_count": 64,
   "id": "9cf9574c",
   "metadata": {},
   "outputs": [
    {
     "data": {
      "image/png": "[encoded data removed]",
      "text/plain": [
       "<Figure size 432x288 with 1 Axes>"
      ]
     },
     "metadata": {
      "needs_background": "light"
     },
     "output_type": "display_data"
    }
   ],
   "source": [
    "sns.countplot(data = df_clean, x = 'generation', color=base_color)\n",
    "plt.title('Buyers generation categories')\n",
    "plt.show()"
   ]
  },
  {
   "cell_type": "markdown",
   "id": "c5863c29",
   "metadata": {},
   "source": [
    "The nuber of useres in diffrenet generations increases in the following order: `Baby Boomers`, `Gen X`, `Gen Y` and `Gen Z`"
   ]
  },
  {
   "cell_type": "code",
   "execution_count": 65,
   "id": "82413239",
   "metadata": {
    "scrolled": true
   },
   "outputs": [
    {
     "data": {
      "image/png": "[encoded data removed]",
      "text/plain": [
       "<Figure size 432x288 with 1 Axes>"
      ]
     },
     "metadata": {
      "needs_background": "light"
     },
     "output_type": "display_data"
    }
   ],
   "source": [
    "plt.hist(data = df_clean, x='age')\n",
    "plt.xlabel('Age')\n",
    "plt.ylabel('count')\n",
    "plt.title('Age distribution')\n",
    "plt.show()"
   ]
  },
  {
   "cell_type": "markdown",
   "id": "9108447b",
   "metadata": {},
   "source": [
    "Most buyers are around 45 to 50 years"
   ]
  },
  {
   "cell_type": "code",
   "execution_count": 84,
   "id": "26ce6719",
   "metadata": {},
   "outputs": [
    {
     "data": {
      "image/png": "[encoded data removed]",
      "text/plain": [
       "<Figure size 432x288 with 1 Axes>"
      ]
     },
     "metadata": {
      "needs_background": "light"
     },
     "output_type": "display_data"
    }
   ],
   "source": [
    "sns.countplot(data = df_clean, x='day', color=base_color)\n",
    "plt.xlabel('day')\n",
    "plt.ylabel('count')\n",
    "plt.title('Distribution of days of week')\n",
    "plt.show()"
   ]
  },
  {
   "cell_type": "markdown",
   "id": "4d21272c",
   "metadata": {},
   "source": [
    "Most transactions happes on the weekend while wednesday is known to have the least number of transactions"
   ]
  },
  {
   "cell_type": "code",
   "execution_count": 76,
   "id": "57ba7743",
   "metadata": {},
   "outputs": [
    {
     "data": {
      "image/png": "[encoded data removed]",
      "text/plain": [
       "<Figure size 432x288 with 1 Axes>"
      ]
     },
     "metadata": {
      "needs_background": "light"
     },
     "output_type": "display_data"
    }
   ],
   "source": [
    "sns.countplot(data = df_clean, x='hour', color=base_color, order = df_clean['hour'].value_counts().index)\n",
    "plt.xlabel('hour')\n",
    "plt.ylabel('count')\n",
    "plt.title('Hour distribution of transactions')\n",
    "plt.show()"
   ]
  },
  {
   "cell_type": "markdown",
   "id": "20e54a2a",
   "metadata": {},
   "source": [
    "## Bivariate Visualization"
   ]
  },
  {
   "cell_type": "code",
   "execution_count": 56,
   "id": "0d9615a8",
   "metadata": {},
   "outputs": [
    {
     "data": {
      "image/png": "[encoded data removed]",
      "text/plain": [
       "<Figure size 432x1080 with 1 Axes>"
      ]
     },
     "metadata": {
      "needs_background": "light"
     },
     "output_type": "display_data"
    }
   ],
   "source": [
    "plt.figure(figsize=(6,15))\n",
    "df_clean.groupby(['city']).mean().sort_values(\"freight_charges\")[\"freight_charges\"].plot.barh()\n",
    "plt.title('Frieght charges per city')\n",
    "plt.xlabel('Average frieght charges')\n",
    "plt.show()"
   ]
  },
  {
   "cell_type": "markdown",
   "id": "42df3c79",
   "metadata": {},
   "source": [
    "Aldearrubia has the highest mean charge on frieght while Barnwell has the least mean charge"
   ]
  },
  {
   "cell_type": "code",
   "execution_count": 57,
   "id": "ed688a7c",
   "metadata": {},
   "outputs": [
    {
     "data": {
      "image/png": "[encoded data removed]",
      "text/plain": [
       "<Figure size 432x1080 with 1 Axes>"
      ]
     },
     "metadata": {
      "needs_background": "light"
     },
     "output_type": "display_data"
    }
   ],
   "source": [
    "plt.figure(figsize=(6,15))\n",
    "df_clean.groupby(['state']).mean().sort_values(\"freight_charges\")[\"freight_charges\"].plot.barh()\n",
    "plt.title('Frieght charges per state')\n",
    "plt.xlabel('Average Frieght charges')\n",
    "plt.show()"
   ]
  },
  {
   "cell_type": "markdown",
   "id": "5df4644b",
   "metadata": {},
   "source": [
    "`North Dakota` has the highest average frieght charges while `South Carolina` has the least"
   ]
  },
  {
   "cell_type": "code",
   "execution_count": 58,
   "id": "5de906c7",
   "metadata": {
    "scrolled": true
   },
   "outputs": [
    {
     "data": {
      "image/png": "[encoded data removed]",
      "text/plain": [
       "<Figure size 504x288 with 1 Axes>"
      ]
     },
     "metadata": {
      "needs_background": "light"
     },
     "output_type": "display_data"
    }
   ],
   "source": [
    "plt.figure(figsize=(7,4))\n",
    "df_clean.groupby(['creditcard_type']).mean().sort_values(\"freight_charges\")[\"freight_charges\"].plot.barh()\n",
    "plt.title('Frieght charges per creditcard type')\n",
    "plt.xlabel('Average charges')\n",
    "plt.show()"
   ]
  },
  {
   "cell_type": "markdown",
   "id": "9c28d4e7",
   "metadata": {},
   "source": [
    "Customers pay more with `American Express`, followed by Master Card, `Visa`, `Dinners Club`, `JCB`, and `Discover`"
   ]
  },
  {
   "cell_type": "code",
   "execution_count": 59,
   "id": "d38b86d3",
   "metadata": {},
   "outputs": [
    {
     "data": {
      "image/png": "[encoded data removed]",
      "text/plain": [
       "<Figure size 432x288 with 1 Axes>"
      ]
     },
     "metadata": {
      "needs_background": "light"
     },
     "output_type": "display_data"
    }
   ],
   "source": [
    "sns.boxplot(data = df_clean, x = 'nationality', y = 'freight_charges', color = base_color)\n",
    "plt.title('Frieght charges distribution')\n",
    "plt.ylim(0,40)\n",
    "plt.show()"
   ]
  },
  {
   "cell_type": "markdown",
   "id": "3adc75c2",
   "metadata": {},
   "source": [
    "__Canada__ has the highest mean frieght charges, followed by __Spain__. With __France__ having the least mean freight charges and __Italy__ having the highest inter quartile range"
   ]
  },
  {
   "cell_type": "code",
   "execution_count": 60,
   "id": "783e9dfc",
   "metadata": {
    "scrolled": true
   },
   "outputs": [
    {
     "data": {
      "text/plain": [
       "cust_name                      object\n",
       "gender_code                  category\n",
       "address1                       object\n",
       "city                           object\n",
       "state                          object\n",
       "country_code                 category\n",
       "postal_code                    object\n",
       "email_address                  object\n",
       "phone_number                   object\n",
       "creditcard_type              category\n",
       "salesman_id                    object\n",
       "nationality                  category\n",
       "cust_id                         int32\n",
       "order_id                        int32\n",
       "order_time                     object\n",
       "freight_charges               float64\n",
       "order_salesman                 object\n",
       "order_ship_date        datetime64[ns]\n",
       "age                             int32\n",
       "order_value                   float64\n",
       "t_type                       category\n",
       "purchase_touchpoint          category\n",
       "purchase_status              category\n",
       "order_type                   category\n",
       "generation                   category\n",
       "product                        object\n",
       "dtype: object"
      ]
     },
     "execution_count": 60,
     "metadata": {},
     "output_type": "execute_result"
    }
   ],
   "source": [
    "df_clean.dtypes"
   ]
  },
  {
   "cell_type": "code",
   "execution_count": 61,
   "id": "522c9af4",
   "metadata": {},
   "outputs": [
    {
     "data": {
      "image/png": "[encoded data removed]",
      "text/plain": [
       "<Figure size 432x288 with 1 Axes>"
      ]
     },
     "metadata": {
      "needs_background": "light"
     },
     "output_type": "display_data"
    }
   ],
   "source": [
    "sns.boxplot(data = df_clean, x = 'gender_code', y = 'freight_charges', color = base_color)\n",
    "plt.title('Frieght charges distribution')\n",
    "plt.ylim(0,40)\n",
    "plt.show()"
   ]
  },
  {
   "cell_type": "markdown",
   "id": "5554ccb1",
   "metadata": {},
   "source": [
    "Both male and female have similar mean and 25 percentile frieght charges but the female has slightly higher 75th percentile frieght charge"
   ]
  },
  {
   "cell_type": "code",
   "execution_count": 83,
   "id": "0b89139a",
   "metadata": {
    "scrolled": false
   },
   "outputs": [
    {
     "data": {
      "image/png": "[encoded data removed]",
      "text/plain": [
       "<Figure size 432x288 with 1 Axes>"
      ]
     },
     "metadata": {
      "needs_background": "light"
     },
     "output_type": "display_data"
    }
   ],
   "source": [
    "sns.boxplot(data = df_clean, x='day', y = 'freight_charges', color=base_color)\n",
    "plt.xlabel('day')\n",
    "plt.ylabel('freight charge')\n",
    "plt.title('Frieght charge distribution per day')\n",
    "plt.ylim(0,55)\n",
    "plt.show()"
   ]
  },
  {
   "cell_type": "markdown",
   "id": "5e7b460c",
   "metadata": {},
   "source": [
    "On average, more money is spent on Tuesday, Thursday and saturday"
   ]
  },
  {
   "cell_type": "code",
   "execution_count": 51,
   "id": "0a4a5b2c",
   "metadata": {
    "scrolled": true
   },
   "outputs": [
    {
     "data": {
      "image/png": "[encoded data removed]",
      "text/plain": [
       "<Figure size 432x288 with 1 Axes>"
      ]
     },
     "metadata": {
      "needs_background": "light"
     },
     "output_type": "display_data"
    }
   ],
   "source": [
    "sns.countplot(data = df_clean, x = 'order_type', hue = 'gender_code', color = base_color)\n",
    "plt.title('Order Value')\n",
    "plt.show()"
   ]
  },
  {
   "cell_type": "code",
   "execution_count": 52,
   "id": "d9f9dba2",
   "metadata": {},
   "outputs": [
    {
     "data": {
      "image/png": "[encoded data removed]",
      "text/plain": [
       "<Figure size 432x288 with 1 Axes>"
      ]
     },
     "metadata": {
      "needs_background": "light"
     },
     "output_type": "display_data"
    }
   ],
   "source": [
    "sns.countplot(data = df_clean, x = 'generation', color=base_color)\n",
    "plt.title('Buyers generation categories')\n",
    "plt.show()"
   ]
  },
  {
   "cell_type": "markdown",
   "id": "81a317aa",
   "metadata": {},
   "source": [
    "There are more male ration to female in Gen Z than any other generations"
   ]
  },
  {
   "cell_type": "code",
   "execution_count": 53,
   "id": "dce69ff2",
   "metadata": {},
   "outputs": [
    {
     "data": {
      "image/png": "[encoded data removed]",
      "text/plain": [
       "<Figure size 432x288 with 1 Axes>"
      ]
     },
     "metadata": {
      "needs_background": "light"
     },
     "output_type": "display_data"
    }
   ],
   "source": [
    "sns.countplot(data = df_clean, x = 'purchase_status', hue = 'gender_code', color=base_color)\n",
    "plt.title('Frequency of purchase')\n",
    "plt.show()"
   ]
  },
  {
   "cell_type": "markdown",
   "id": "d8a3957a",
   "metadata": {},
   "source": [
    "There are moremen that buys just once from the store, these men may return or may not return to the store"
   ]
  },
  {
   "cell_type": "markdown",
   "id": "4520e9e2",
   "metadata": {},
   "source": []
  }
 ],
 "metadata": {
  "kernelspec": {
   "display_name": "Python 3",
   "language": "python",
   "name": "python3"
  },
  "language_info": {
   "codemirror_mode": {
    "name": "ipython",
    "version": 3
   },
   "file_extension": ".py",
   "mimetype": "text/x-python",
   "name": "python",
   "nbconvert_exporter": "python",
   "pygments_lexer": "ipython3",
   "version": "3.8.8"
  }
 },
 "nbformat": 4,
 "nbformat_minor": 5
}
